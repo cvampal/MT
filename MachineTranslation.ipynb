{
 "cells": [
  {
   "cell_type": "markdown",
   "metadata": {
    "id": "lhln4vQ6278y"
   },
   "source": [
    "# MT Indian Language 2 English"
   ]
  },
  {
   "cell_type": "code",
   "execution_count": 4,
   "metadata": {
    "colab": {
     "base_uri": "https://localhost:8080/"
    },
    "id": "tRtsQQPV2jP3",
    "outputId": "ede79301-b8b8-4ded-dd2d-bb1aba40b47f"
   },
   "outputs": [],
   "source": [
    "#!pip3 install nltk"
   ]
  },
  {
   "cell_type": "code",
   "execution_count": 5,
   "metadata": {
    "id": "x5ctUkK-0zAC"
   },
   "outputs": [],
   "source": [
    "import json\n",
    "from tqdm import tqdm\n",
    "import sentencepiece as spm\n",
    "import random\n",
    "import torch\n",
    "from torch.utils.data import Dataset, DataLoader\n",
    "from torch.nn.utils.rnn import pad_sequence\n",
    "import nltk"
   ]
  },
  {
   "cell_type": "code",
   "execution_count": 17,
   "metadata": {},
   "outputs": [],
   "source": [
    "DEVICE = torch.device('cuda') if torch.cuda.is_available() else torch.device('cpu')"
   ]
  },
  {
   "cell_type": "markdown",
   "metadata": {
    "id": "LHkvL06U27Pf"
   },
   "source": [
    "## Preprocess"
   ]
  },
  {
   "cell_type": "code",
   "execution_count": 6,
   "metadata": {
    "id": "UL6iJm_M2t5z"
   },
   "outputs": [],
   "source": [
    "def pre_process_indian(s):\n",
    "    unicodes = {\"hindi\": 2304,\n",
    "     \"bengali\": 2432,\n",
    "     \"gujarati\": 2688,\n",
    "     \"tamil\": 2944,\n",
    "     \"telgu\": 3072,\n",
    "     \"kannada\": 3200,\n",
    "     \"malayalam\": 3328}\n",
    "    re = s\n",
    "    for i in s:\n",
    "        if ord(i) not in range(2304, 3328+128) and i != \" \" and i not in \"01234567890\":\n",
    "            re = re.replace(i, \"\")\n",
    "    return ' '.join(re.split())\n",
    "\n",
    "def pre_process_english(s):\n",
    "    re = s\n",
    "    cond1 = lambda x : ord(x) not in range(48, 58)\n",
    "    cond2 = lambda x : ord(x) not in range(65, 91)\n",
    "    cond3 = lambda x : ord(x) not in range(97, 123)\n",
    "    for i in s:\n",
    "        if cond1(i) and cond2(i) and cond3(i) and i != \" \" and i != \".\" :\n",
    "            re = re.replace(i, \"\")\n",
    "    return ' '.join(re.split())"
   ]
  },
  {
   "cell_type": "code",
   "execution_count": 7,
   "metadata": {
    "id": "wTlH_mUhgfZ2"
   },
   "outputs": [],
   "source": [
    "def write_preprocess_data(data):\n",
    "    source = open(\"source.txt\", \"w\")\n",
    "    target = open(\"target.txt\", \"w\")\n",
    "    for key in data.keys():\n",
    "        for i in tqdm(data[key][\"Train\"].items()):\n",
    "            source.writelines(f'{pre_process_indian(i[1][\"source\"])}\\n')\n",
    "            target.writelines(f'{pre_process_english(i[1][\"target\"])}\\n')\n",
    "    source.close()\n",
    "    target.close()"
   ]
  },
  {
   "cell_type": "code",
   "execution_count": null,
   "metadata": {
    "colab": {
     "base_uri": "https://localhost:8080/"
    },
    "id": "cogNwVdrhH58",
    "outputId": "f965ac86-04c9-4846-96a2-cdd058a9bf6c"
   },
   "outputs": [
    {
     "name": "stderr",
     "output_type": "stream",
     "text": [
      "100%|██████████| 68848/68848 [00:09<00:00, 7357.81it/s]\n",
      "100%|██████████| 47482/47482 [00:07<00:00, 6214.13it/s]\n",
      "100%|██████████| 80797/80797 [00:13<00:00, 6185.41it/s]\n",
      "100%|██████████| 46794/46794 [00:05<00:00, 8420.88it/s]\n",
      "100%|██████████| 54057/54057 [00:08<00:00, 6251.70it/s]\n",
      "100%|██████████| 58361/58361 [00:09<00:00, 5947.05it/s]\n",
      "100%|██████████| 44904/44904 [00:05<00:00, 8671.58it/s]\n"
     ]
    }
   ],
   "source": [
    "data = json.load(open(\"/content/drive/MyDrive/MT2/train_data2.json\", \"r\"))\n",
    "write_preprocess_data(data)"
   ]
  },
  {
   "cell_type": "markdown",
   "metadata": {
    "id": "5YwbALhHiDn6"
   },
   "source": [
    "### Training Sentencepiece Tokenizer"
   ]
  },
  {
   "cell_type": "code",
   "execution_count": null,
   "metadata": {
    "id": "I9Y7sKNviIYy"
   },
   "outputs": [],
   "source": [
    "src_vocab = 64000\n",
    "tgt_vocab = 16000\n",
    "spm.SentencePieceTrainer.train(input=\"source.txt\", model_prefix=\"src\", vocab_size=src_vocab,model_type='bpe', pad_id=0,unk_id=3)\n",
    "spm.SentencePieceTrainer.train(input=\"target.txt\", model_prefix=\"tgt\", vocab_size=tgt_vocab,model_type='bpe',pad_id=0,unk_id=3)"
   ]
  },
  {
   "cell_type": "code",
   "execution_count": null,
   "metadata": {
    "id": "-1Dfriezi-_Q"
   },
   "outputs": [],
   "source": [
    "def random_split(data):\n",
    "    train = []\n",
    "    val = []\n",
    "    for key in data.keys():\n",
    "        tmp = data[key][\"Train\"].items()\n",
    "        new = []\n",
    "        for i in tqdm(tmp):\n",
    "            src = pre_process_indian(i[1][\"source\"])\n",
    "            if len(src.split(\" \")) <= 32:\n",
    "                new.append(i)\n",
    "        n = int(0.9 * len(new))\n",
    "        random.shuffle(new)\n",
    "        train += new[:n]\n",
    "        val += new[n:]\n",
    "    json.dump(train,open(\"train.json\", \"w\"))\n",
    "    json.dump(val,open(\"val.json\", \"w\"))"
   ]
  },
  {
   "cell_type": "code",
   "execution_count": null,
   "metadata": {
    "colab": {
     "base_uri": "https://localhost:8080/"
    },
    "id": "etEW5EAujZ0W",
    "outputId": "d20cdfc8-28c5-4a91-fc2d-fdff0f94776b"
   },
   "outputs": [
    {
     "name": "stderr",
     "output_type": "stream",
     "text": [
      "100%|██████████| 68848/68848 [00:03<00:00, 18481.57it/s]\n",
      "100%|██████████| 47482/47482 [00:02<00:00, 18783.69it/s]\n",
      "100%|██████████| 80797/80797 [00:02<00:00, 29083.28it/s]\n",
      "100%|██████████| 46794/46794 [00:01<00:00, 31166.33it/s]\n",
      "100%|██████████| 54057/54057 [00:02<00:00, 24679.99it/s]\n",
      "100%|██████████| 58361/58361 [00:02<00:00, 19679.73it/s]\n",
      "100%|██████████| 44904/44904 [00:02<00:00, 16169.42it/s]\n"
     ]
    }
   ],
   "source": [
    "random_split(data)\n",
    "del data"
   ]
  },
  {
   "cell_type": "markdown",
   "metadata": {
    "id": "YXpn77xX3JsM"
   },
   "source": [
    "## Dataloader"
   ]
  },
  {
   "cell_type": "code",
   "execution_count": 8,
   "metadata": {
    "id": "4U5cQmwd2u18"
   },
   "outputs": [],
   "source": [
    "class MTDataset(Dataset):\n",
    "    def __init__(self, filename=\"train.json\",  src_tokenizer=None, tgt_tokenizer=None):\n",
    "        self.data = json.load(open(filename, \"r\"))\n",
    "        self.src_tokenizer = src_tokenizer\n",
    "        self.tgt_tokenizer = tgt_tokenizer\n",
    "        self.ids = [i[0] for i in self.data]\n",
    "\n",
    "    def __len__(self):\n",
    "        return len(self.data)\n",
    "\n",
    "    def __getitem__(self, idx):\n",
    "        src = [1] + self.src_tokenizer.encode(pre_process_indian(self.data[idx][1]['source'])) + [2]   # 1 for <sos>\n",
    "        tgt = [1] + self.tgt_tokenizer.encode(pre_process_english(self.data[idx][1]['target'])) + [2]  # 2 for <eos>\n",
    "        return torch.tensor(src), torch.tensor(tgt)\n",
    "\n",
    "def add_padding(batch):\n",
    "    pad_idx = 0\n",
    "    ss,ts = [],[]\n",
    "    for s,t in batch:\n",
    "        ss.append(s)\n",
    "        ts.append(t)\n",
    "    ss = pad_sequence(ss,batch_first=False,padding_value=pad_idx)\n",
    "    ts = pad_sequence(ts, batch_first=False, padding_value=pad_idx)\n",
    "    return ss, ts"
   ]
  },
  {
   "cell_type": "markdown",
   "metadata": {
    "id": "wi6rzJDv3OOV"
   },
   "source": [
    "## Model"
   ]
  },
  {
   "cell_type": "code",
   "execution_count": 9,
   "metadata": {
    "id": "cP38yS3W22JP"
   },
   "outputs": [],
   "source": [
    "from torch import Tensor\n",
    "import torch\n",
    "import torch.nn as nn\n",
    "from torch.nn import Transformer\n",
    "import math\n",
    "\n",
    "\n",
    "class PositionalEncoding(nn.Module):\n",
    "    def __init__(self,\n",
    "                 emb_size: int,\n",
    "                 dropout: float,\n",
    "                 maxlen: int = 5000):\n",
    "        super(PositionalEncoding, self).__init__()\n",
    "        den = torch.exp(- torch.arange(0, emb_size, 2)* math.log(10000) / emb_size)\n",
    "        pos = torch.arange(0, maxlen).reshape(maxlen, 1)\n",
    "        pos_embedding = torch.zeros((maxlen, emb_size))\n",
    "        pos_embedding[:, 0::2] = torch.sin(pos * den)\n",
    "        pos_embedding[:, 1::2] = torch.cos(pos * den)\n",
    "        pos_embedding = pos_embedding.unsqueeze(-2)\n",
    "\n",
    "        self.dropout = nn.Dropout(dropout)\n",
    "        self.register_buffer('pos_embedding', pos_embedding)\n",
    "\n",
    "    def forward(self, token_embedding: Tensor):\n",
    "        return self.dropout(token_embedding + self.pos_embedding[:token_embedding.size(0), :])\n",
    "\n",
    "class TokenEmbedding(nn.Module):\n",
    "    def __init__(self, vocab_size: int, emb_size):\n",
    "        super(TokenEmbedding, self).__init__()\n",
    "        self.embedding = nn.Embedding(vocab_size, emb_size, padding_idx=0)\n",
    "        self.emb_size = emb_size\n",
    "\n",
    "    def forward(self, tokens: Tensor):\n",
    "        return self.embedding(tokens.long()) * math.sqrt(self.emb_size)\n",
    "\n",
    "class Seq2SeqTransformer(nn.Module):\n",
    "    def __init__(self,\n",
    "                 num_encoder_layers: int,\n",
    "                 num_decoder_layers: int,\n",
    "                 emb_size: int,\n",
    "                 nhead: int,\n",
    "                 src_vocab_size: int,\n",
    "                 tgt_vocab_size: int,\n",
    "                 dim_feedforward: int = 512,\n",
    "                 dropout: float = 0.2):\n",
    "        super(Seq2SeqTransformer, self).__init__()\n",
    "        self.transformer = Transformer(d_model=emb_size,\n",
    "                                       nhead=nhead,\n",
    "                                       num_encoder_layers=num_encoder_layers,\n",
    "                                       num_decoder_layers=num_decoder_layers,\n",
    "                                       dim_feedforward=dim_feedforward,\n",
    "                                       dropout=dropout)\n",
    "        self.generator = nn.Linear(emb_size, tgt_vocab_size)\n",
    "        self.src_tok_emb = TokenEmbedding(src_vocab_size, emb_size)\n",
    "        self.tgt_tok_emb = TokenEmbedding(tgt_vocab_size, emb_size)\n",
    "        self.positional_encoding = PositionalEncoding(\n",
    "            emb_size, dropout=dropout)\n",
    "\n",
    "    def forward(self,\n",
    "                src: Tensor,\n",
    "                trg: Tensor,\n",
    "                src_mask: Tensor,\n",
    "                tgt_mask: Tensor,\n",
    "                src_padding_mask: Tensor,\n",
    "                tgt_padding_mask: Tensor,\n",
    "                memory_key_padding_mask: Tensor):\n",
    "        src_emb = self.positional_encoding(self.src_tok_emb(src))\n",
    "        tgt_emb = self.positional_encoding(self.tgt_tok_emb(trg))\n",
    "        outs = self.transformer(src_emb, tgt_emb, src_mask, tgt_mask, None,\n",
    "                                src_padding_mask, tgt_padding_mask, memory_key_padding_mask)\n",
    "        return self.generator(outs)\n",
    "\n",
    "    def encode(self, src: Tensor, src_mask: Tensor):\n",
    "        return self.transformer.encoder(self.positional_encoding(\n",
    "                            self.src_tok_emb(src)), src_mask)\n",
    "\n",
    "    def decode(self, tgt: Tensor, memory: Tensor, tgt_mask: Tensor):\n",
    "        return self.transformer.decoder(self.positional_encoding(\n",
    "                          self.tgt_tok_emb(tgt)), memory,\n",
    "                          tgt_mask)\n",
    "\n",
    "def generate_square_subsequent_mask(sz):\n",
    "    mask = (torch.triu(torch.ones((sz, sz), device=DEVICE)) == 1).transpose(0, 1)\n",
    "    mask = mask.float().masked_fill(mask == 0, float('-inf')).masked_fill(mask == 1, float(0.0))\n",
    "    return mask\n",
    "\n",
    "\n",
    "def create_mask(src, tgt):\n",
    "    src_seq_len = src.shape[0]\n",
    "    tgt_seq_len = tgt.shape[0]\n",
    "\n",
    "    tgt_mask = generate_square_subsequent_mask(tgt_seq_len)\n",
    "    src_mask = torch.zeros((src_seq_len, src_seq_len),device=DEVICE).type(torch.bool)\n",
    "\n",
    "    src_padding_mask = (src == PAD_IDX).transpose(0, 1)\n",
    "    tgt_padding_mask = (tgt == PAD_IDX).transpose(0, 1)\n",
    "    return src_mask, tgt_mask, src_padding_mask, tgt_padding_mask\n",
    "\n",
    "\n",
    "def train_epoch(model, optimizer, train_dataloader):\n",
    "    model.train()\n",
    "    losses = 0\n",
    "    i = 0\n",
    "    for src, tgt in tqdm(train_dataloader):\n",
    "        src = src.to(DEVICE)\n",
    "        tgt = tgt.to(DEVICE)\n",
    "        i += 1\n",
    "        tgt_input = tgt[:-1, :]\n",
    "\n",
    "        src_mask, tgt_mask, src_padding_mask, tgt_padding_mask = create_mask(src, tgt_input)\n",
    "\n",
    "        logits = model(src, tgt_input, src_mask, tgt_mask,src_padding_mask, tgt_padding_mask, src_padding_mask)\n",
    "\n",
    "        optimizer.zero_grad()\n",
    "\n",
    "        tgt_out = tgt[1:, :]\n",
    "        loss = loss_fn(logits.reshape(-1, logits.shape[-1]), tgt_out.reshape(-1))\n",
    "        loss.backward()\n",
    "\n",
    "        optimizer.step()\n",
    "        losses += loss.item()\n",
    "\n",
    "    return losses / i\n",
    "\n",
    "def evaluate(model, val_dataloader):\n",
    "  model.eval()\n",
    "  losses = 0\n",
    "  i = 0\n",
    "  for src, tgt in val_dataloader:\n",
    "      src = src.to(DEVICE)\n",
    "      tgt = tgt.to(DEVICE)\n",
    "      i += 1\n",
    "      tgt_input = tgt[:-1, :]\n",
    "\n",
    "      src_mask, tgt_mask, src_padding_mask, tgt_padding_mask = create_mask(src, tgt_input)\n",
    "\n",
    "      logits = model(src, tgt_input, src_mask, tgt_mask,src_padding_mask, tgt_padding_mask, src_padding_mask)\n",
    "\n",
    "      tgt_out = tgt[1:, :]\n",
    "      loss = loss_fn(logits.reshape(-1, logits.shape[-1]), tgt_out.reshape(-1))\n",
    "      losses += loss.item()\n",
    "\n",
    "  return losses / i"
   ]
  },
  {
   "cell_type": "markdown",
   "metadata": {
    "id": "6D_Wu0ZEl6xR"
   },
   "source": [
    "## Decodeing (Beam)"
   ]
  },
  {
   "cell_type": "code",
   "execution_count": 56,
   "metadata": {
    "id": "2RJy2sZdl5lB"
   },
   "outputs": [],
   "source": [
    "def greedy_decode_batch(model, src, src_mask, max_len=25):\n",
    "    src = src.to(DEVICE)\n",
    "    src_mask = src_mask.to(DEVICE)\n",
    "    memory = model.encode(src, src_mask)\n",
    "    ys = torch.ones(1, memory.shape[1]).type(torch.long).to(DEVICE)\n",
    "    for i in range(max_len-1):\n",
    "        memory = memory.to(DEVICE)\n",
    "        tgt_mask = (generate_square_subsequent_mask(ys.size(0)).type(torch.bool)).to(DEVICE)\n",
    "        out = model.decode(ys, memory, tgt_mask)\n",
    "        out = out.transpose(0, 1)\n",
    "        prob = model.generator(out[:, -1])\n",
    "        _, next_word = torch.max(prob, dim=-1)\n",
    "        ys = torch.cat([ys,next_word.unsqueeze(0)], dim=0)\n",
    "    return ys\n",
    "\n",
    "\n",
    "def bleu_score(true, translated):\n",
    "    true = [[nltk.word_tokenize(i)] for i in true]\n",
    "    translated = [nltk.word_tokenize(i) for i in translated]\n",
    "    return nltk.translate.bleu_score.corpus_bleu(true, translated)\n",
    "\n",
    "\n",
    "def validation_batchwise(model, val_loader, src_tok, tgt_tok):\n",
    "    mode = model.eval()\n",
    "    true = []\n",
    "    translations = []\n",
    "    for src, tgt in tqdm(val_loader):\n",
    "        src = src.to(DEVICE)\n",
    "        true += tgt_tok.decode(tgt.T.tolist())\n",
    "        mask = (torch.zeros(src.shape[0], src.shape[0])).type(torch.bool).to(DEVICE)\n",
    "        out = greedy_decode_batch(model, src, mask, src.shape[0]+1)\n",
    "        translations += tgt_tok.decode(out.T.tolist())\n",
    "    return bleu_score(true, translations)\n",
    "\n",
    "\n",
    "def beam_search_decode(model, src, src_mask, max_length=45, beam_width=2):\n",
    "    src = src.to(DEVICE)\n",
    "    src_mask = src_mask.to(DEVICE)\n",
    "    EOS_IDX = 2\n",
    "    memory = model.encode(src, src_mask)\n",
    "    beam = [([1], 1.0)]\n",
    "    final_candidates = []\n",
    "    for _ in range(max_length):\n",
    "        candidates = []\n",
    "        for candidate_seq, candidate_score in beam:\n",
    "            tgt = torch.LongTensor(candidate_seq).unsqueeze(1).to(DEVICE)\n",
    "            tgt_mask = generate_square_subsequent_mask(tgt.shape[0]).type(torch.bool).to(DEVICE)\n",
    "            out = model.decode(tgt, memory, tgt_mask)\n",
    "            prob = model.generator(out[-1,:]).softmax(-1).squeeze(0)\n",
    "            topk_probs, topk_indices = torch.topk(prob, beam_width, dim=-1)\n",
    "            for i in range(beam_width):\n",
    "                word_index = topk_indices[i].item()\n",
    "                word_prob = topk_probs[i].item()\n",
    "                new_seq = candidate_seq + [word_index]\n",
    "                new_score = candidate_score * word_prob\n",
    "                candidates.append((new_seq, new_score))\n",
    "        candidates.sort(key=lambda x: -x[1])\n",
    "        beam = candidates[:beam_width]\n",
    "        for seq, score in beam:\n",
    "            if seq[-1] == EOS_IDX:\n",
    "                final_candidates.append((seq, score))\n",
    "        if len(final_candidates) >= beam_width:\n",
    "            break\n",
    "    if not final_candidates:\n",
    "        final_candidates = beam\n",
    "    final_candidates.sort(key=lambda x: -x[1])\n",
    "    best_seq, best_score = final_candidates[0]\n",
    "    return best_seq\n",
    "\n",
    "def translate_greedy(model, src_sentence, src_tok, tgt_tok):\n",
    "    model.eval()\n",
    "    src = torch.tensor(src_tok.encode(src_sentence)).view(1, -1).to(DEVICE)\n",
    "    num_tokens = src.shape[0]\n",
    "    src_mask = (torch.zeros(num_tokens, num_tokens)).type(torch.bool).to(DEVICE)\n",
    "    tgt_tokens = greedy_decode_batch(\n",
    "        model,  src, src_mask, max_len=num_tokens + 2).flatten()\n",
    "    tgt_tokens = tgt_tokens.T.tolist()\n",
    "    return tgt_tok.decode(tgt_tokens)\n",
    "\n",
    "def translate_beam_search(model, src_sentence, src_tok, tgt_tok,  beam=5):\n",
    "    model.eval()\n",
    "    src = torch.tensor(src_tok.encode(src_sentence)).view(-1, 1).to(DEVICE)\n",
    "    num_tokens = src.shape[0]\n",
    "    src_mask = (torch.zeros(num_tokens, num_tokens)).type(torch.bool).to(DEVICE)\n",
    "    tgt_tokens = beam_search_decode(model,  src, src_mask, num_tokens+4, beam)\n",
    "    #print(tgt_tokens)\n",
    "    return \" \".join(tgt_tok.decode(tgt_tokens).replace('⁇', '').split())"
   ]
  },
  {
   "cell_type": "markdown",
   "metadata": {
    "id": "Cpz0Jzhq3c6P"
   },
   "source": [
    "### Training"
   ]
  },
  {
   "cell_type": "code",
   "execution_count": null,
   "metadata": {
    "id": "EYDgIoaP3Q3y"
   },
   "outputs": [],
   "source": [
    "src_tok = spm.SentencePieceProcessor(model_file='src.model')\n",
    "tgt_tok = spm.SentencePieceProcessor(model_file='tgt.model')"
   ]
  },
  {
   "cell_type": "code",
   "execution_count": null,
   "metadata": {
    "id": "OgjPW9wW3iez"
   },
   "outputs": [],
   "source": [
    "train_set = MTDataset(\"train.json\", src_tok, tgt_tok)\n",
    "train_loader = DataLoader(train_set, batch_size=128,shuffle=True, collate_fn=add_padding)"
   ]
  },
  {
   "cell_type": "code",
   "execution_count": null,
   "metadata": {
    "id": "R-CGUHgSkzB0"
   },
   "outputs": [],
   "source": [
    "val_set = MTDataset(\"val.json\", src_tok, tgt_tok)\n",
    "val_loader = DataLoader(val_set, batch_size=128,shuffle=False, collate_fn=add_padding)"
   ]
  },
  {
   "cell_type": "code",
   "execution_count": null,
   "metadata": {
    "colab": {
     "base_uri": "https://localhost:8080/"
    },
    "id": "QAB_CE-33nib",
    "outputId": "d8030679-6bc1-4f5a-b2e6-4bf60690bbaa"
   },
   "outputs": [
    {
     "name": "stderr",
     "output_type": "stream",
     "text": [
      "/usr/local/lib/python3.10/dist-packages/torch/nn/modules/transformer.py:282: UserWarning: enable_nested_tensor is True, but self.use_nested_tensor is False because encoder_layer.self_attn.batch_first was not True(use batch_first for better inference performance)\n",
      "  warnings.warn(f\"enable_nested_tensor is True, but self.use_nested_tensor is False because {why_not_sparsity_fast_path}\")\n"
     ]
    }
   ],
   "source": [
    "DEVICE = torch.device(\"cuda\")\n",
    "PAD_IDX = 0\n",
    "torch.manual_seed(0)\n",
    "\n",
    "SRC_VOCAB_SIZE = 64000\n",
    "TGT_VOCAB_SIZE = 16000\n",
    "EMB_SIZE = 256\n",
    "NHEAD = 4\n",
    "FFN_HID_DIM = 512\n",
    "NUM_ENCODER_LAYERS = 2\n",
    "NUM_DECODER_LAYERS = 2\n",
    "\n",
    "transformer = Seq2SeqTransformer(NUM_ENCODER_LAYERS, NUM_DECODER_LAYERS, EMB_SIZE,\n",
    "                                NHEAD, SRC_VOCAB_SIZE, TGT_VOCAB_SIZE, FFN_HID_DIM)\n",
    "\n",
    "for p in transformer.parameters():\n",
    "    if p.dim() > 1:\n",
    "        nn.init.xavier_uniform_(p)\n",
    "\n",
    "transformer = transformer.to(DEVICE)\n",
    "loss_fn = torch.nn.CrossEntropyLoss(ignore_index=PAD_IDX,label_smoothing=0.3)\n",
    "optimizer = torch.optim.Adam(transformer.parameters(), lr=0.0005, betas=(0.9, 0.98), eps=1e-9)"
   ]
  },
  {
   "cell_type": "code",
   "execution_count": null,
   "metadata": {
    "colab": {
     "base_uri": "https://localhost:8080/"
    },
    "id": "su7fBEjR4EYy",
    "outputId": "0f69fb0d-a1b0-4ed3-8a09-25acfb72bb55"
   },
   "outputs": [
    {
     "name": "stderr",
     "output_type": "stream",
     "text": [
      "\r",
      "  0%|          | 0/3058 [00:00<?, ?it/s]/usr/local/lib/python3.10/dist-packages/torch/nn/functional.py:5076: UserWarning: Support for mismatched key_padding_mask and attn_mask is deprecated. Use same type for both instead.\n",
      "  warnings.warn(\n",
      "100%|██████████| 3058/3058 [07:44<00:00,  6.59it/s]\n"
     ]
    },
    {
     "name": "stdout",
     "output_type": "stream",
     "text": [
      "Epoch: 1, Train loss: 6.931, Epoch time = 464.210s\n"
     ]
    },
    {
     "name": "stderr",
     "output_type": "stream",
     "text": [
      "100%|██████████| 3058/3058 [07:49<00:00,  6.51it/s]\n"
     ]
    },
    {
     "name": "stdout",
     "output_type": "stream",
     "text": [
      "Epoch: 2, Train loss: 6.303, Epoch time = 469.540s\n"
     ]
    },
    {
     "name": "stderr",
     "output_type": "stream",
     "text": [
      "100%|██████████| 3058/3058 [07:45<00:00,  6.57it/s]\n"
     ]
    },
    {
     "name": "stdout",
     "output_type": "stream",
     "text": [
      "Epoch: 3, Train loss: 6.039, Epoch time = 465.523s\n"
     ]
    },
    {
     "name": "stderr",
     "output_type": "stream",
     "text": [
      "100%|██████████| 3058/3058 [07:48<00:00,  6.52it/s]\n"
     ]
    },
    {
     "name": "stdout",
     "output_type": "stream",
     "text": [
      "Epoch: 4, Train loss: 5.885, Epoch time = 468.920s\n"
     ]
    },
    {
     "name": "stderr",
     "output_type": "stream",
     "text": [
      "100%|██████████| 3058/3058 [07:47<00:00,  6.54it/s]\n"
     ]
    },
    {
     "name": "stdout",
     "output_type": "stream",
     "text": [
      "Epoch: 5, Train loss: 5.785, Epoch time = 467.554s\n"
     ]
    },
    {
     "name": "stderr",
     "output_type": "stream",
     "text": [
      "100%|██████████| 3058/3058 [07:42<00:00,  6.60it/s]\n"
     ]
    },
    {
     "name": "stdout",
     "output_type": "stream",
     "text": [
      "Epoch: 6, Train loss: 5.715, Epoch time = 463.003s\n"
     ]
    },
    {
     "name": "stderr",
     "output_type": "stream",
     "text": [
      "100%|██████████| 3058/3058 [07:42<00:00,  6.62it/s]\n"
     ]
    },
    {
     "name": "stdout",
     "output_type": "stream",
     "text": [
      "Epoch: 7, Train loss: 5.662, Epoch time = 462.151s\n"
     ]
    },
    {
     "name": "stderr",
     "output_type": "stream",
     "text": [
      "100%|██████████| 3058/3058 [07:46<00:00,  6.55it/s]\n"
     ]
    },
    {
     "name": "stdout",
     "output_type": "stream",
     "text": [
      "Epoch: 8, Train loss: 5.620, Epoch time = 466.708s\n"
     ]
    },
    {
     "name": "stderr",
     "output_type": "stream",
     "text": [
      "100%|██████████| 3058/3058 [07:46<00:00,  6.55it/s]\n"
     ]
    },
    {
     "name": "stdout",
     "output_type": "stream",
     "text": [
      "Epoch: 9, Train loss: 5.586, Epoch time = 466.956s\n"
     ]
    },
    {
     "name": "stderr",
     "output_type": "stream",
     "text": [
      "100%|██████████| 3058/3058 [07:47<00:00,  6.54it/s]\n"
     ]
    },
    {
     "name": "stdout",
     "output_type": "stream",
     "text": [
      "Epoch: 10, Train loss: 5.557, Epoch time = 467.275s\n"
     ]
    },
    {
     "name": "stderr",
     "output_type": "stream",
     "text": [
      "100%|██████████| 3058/3058 [07:48<00:00,  6.53it/s]\n"
     ]
    },
    {
     "name": "stdout",
     "output_type": "stream",
     "text": [
      "Epoch: 11, Train loss: 5.533, Epoch time = 468.077s\n"
     ]
    },
    {
     "name": "stderr",
     "output_type": "stream",
     "text": [
      "100%|██████████| 3058/3058 [07:48<00:00,  6.53it/s]\n"
     ]
    },
    {
     "name": "stdout",
     "output_type": "stream",
     "text": [
      "Epoch: 12, Train loss: 5.512, Epoch time = 468.549s\n"
     ]
    },
    {
     "name": "stderr",
     "output_type": "stream",
     "text": [
      "100%|██████████| 3058/3058 [07:50<00:00,  6.50it/s]\n"
     ]
    },
    {
     "name": "stdout",
     "output_type": "stream",
     "text": [
      "Epoch: 13, Train loss: 5.494, Epoch time = 470.224s\n"
     ]
    },
    {
     "name": "stderr",
     "output_type": "stream",
     "text": [
      "100%|██████████| 3058/3058 [07:46<00:00,  6.55it/s]\n"
     ]
    },
    {
     "name": "stdout",
     "output_type": "stream",
     "text": [
      "Epoch: 14, Train loss: 5.477, Epoch time = 466.965s\n"
     ]
    },
    {
     "name": "stderr",
     "output_type": "stream",
     "text": [
      "100%|██████████| 3058/3058 [07:46<00:00,  6.56it/s]\n"
     ]
    },
    {
     "name": "stdout",
     "output_type": "stream",
     "text": [
      "Epoch: 15, Train loss: 5.463, Epoch time = 466.112s\n"
     ]
    },
    {
     "name": "stderr",
     "output_type": "stream",
     "text": [
      "100%|██████████| 3058/3058 [07:46<00:00,  6.56it/s]\n"
     ]
    },
    {
     "name": "stdout",
     "output_type": "stream",
     "text": [
      "Epoch: 16, Train loss: 5.450, Epoch time = 466.181s\n"
     ]
    },
    {
     "name": "stderr",
     "output_type": "stream",
     "text": [
      "100%|██████████| 3058/3058 [07:46<00:00,  6.55it/s]\n"
     ]
    },
    {
     "name": "stdout",
     "output_type": "stream",
     "text": [
      "Epoch: 17, Train loss: 5.439, Epoch time = 466.590s\n"
     ]
    },
    {
     "name": "stderr",
     "output_type": "stream",
     "text": [
      "100%|██████████| 3058/3058 [07:45<00:00,  6.57it/s]\n"
     ]
    },
    {
     "name": "stdout",
     "output_type": "stream",
     "text": [
      "Epoch: 18, Train loss: 5.428, Epoch time = 465.774s\n"
     ]
    },
    {
     "name": "stderr",
     "output_type": "stream",
     "text": [
      "100%|██████████| 3058/3058 [07:44<00:00,  6.59it/s]\n"
     ]
    },
    {
     "name": "stdout",
     "output_type": "stream",
     "text": [
      "Epoch: 19, Train loss: 5.418, Epoch time = 464.224s\n"
     ]
    },
    {
     "name": "stderr",
     "output_type": "stream",
     "text": [
      "100%|██████████| 3058/3058 [07:44<00:00,  6.58it/s]\n"
     ]
    },
    {
     "name": "stdout",
     "output_type": "stream",
     "text": [
      "Epoch: 20, Train loss: 5.409, Epoch time = 464.671s\n"
     ]
    }
   ],
   "source": [
    "from timeit import default_timer as timer\n",
    "NUM_EPOCHS = 20\n",
    "\n",
    "for epoch in range(1, NUM_EPOCHS+1):\n",
    "    start_time = timer()\n",
    "    train_loss = train_epoch(transformer, optimizer, train_loader)\n",
    "    end_time = timer()\n",
    "    torch.save(transformer, \"model.pt\")\n",
    "    val_loss = evaluate(transformer, val_loader)\n",
    "    print((f\"Epoch: {epoch}, Train loss: {train_loss:.3f}, Val loss: {val_loss:.3f}, \"f\"Epoch time = {(end_time - start_time):.3f}s\"))"
   ]
  },
  {
   "cell_type": "markdown",
   "metadata": {
    "id": "V6xgrgLDmQjP"
   },
   "source": [
    "# Inference Code"
   ]
  },
  {
   "cell_type": "code",
   "execution_count": 12,
   "metadata": {
    "colab": {
     "base_uri": "https://localhost:8080/"
    },
    "id": "ut1e2EFflvVp",
    "outputId": "06037a98-93b4-4766-e49c-048f1c2d2851"
   },
   "outputs": [
    {
     "name": "stdout",
     "output_type": "stream",
     "text": [
      "Downloading...\n",
      "From (uriginal): https://drive.google.com/uc?id=1rUutTmQw6UtONYnNYA82gaX7m8UidxV8\n",
      "From (redirected): https://drive.google.com/uc?id=1rUutTmQw6UtONYnNYA82gaX7m8UidxV8&confirm=t&uuid=56ac3263-046c-4480-aec9-bc111008ad92\n",
      "To: /home/pshivam/MT/MT2/trained.zip\n",
      "100%|████████████████████████████████████████| 107M/107M [00:10<00:00, 10.3MB/s]\n",
      "Archive:  trained.zip\n",
      "   creating: trained/\n",
      "  inflating: trained/model5.pt       \n",
      "  inflating: trained/src.model       \n",
      "  inflating: trained/tgt.model       \n"
     ]
    }
   ],
   "source": [
    "# Downloading pretrained tokenizer and model\n",
    "!gdown 1rUutTmQw6UtONYnNYA82gaX7m8UidxV8\n",
    "!unzip trained.zip"
   ]
  },
  {
   "cell_type": "code",
   "execution_count": 14,
   "metadata": {
    "id": "qrAbBA5PocJO"
   },
   "outputs": [],
   "source": [
    "model = torch.load(\"trained/model5.pt\",map_location=torch.device('cpu'))\n",
    "src_tok = spm.SentencePieceProcessor(model_file='trained/src.model')\n",
    "tgt_tok = spm.SentencePieceProcessor(model_file='trained/tgt.model')"
   ]
  },
  {
   "cell_type": "code",
   "execution_count": 59,
   "metadata": {
    "colab": {
     "base_uri": "https://localhost:8080/",
     "height": 35
    },
    "id": "xwXLrgr2o3VT",
    "outputId": "a63d7525-aa79-4a2a-cca9-78eba0fc2003"
   },
   "outputs": [
    {
     "data": {
      "text/plain": [
       "'The mystery of life is not only enjoy but also learning through experience.'"
      ]
     },
     "execution_count": 59,
     "metadata": {},
     "output_type": "execute_result"
    }
   ],
   "source": [
    "sent = \"जीवन का रहस्य  केवल आनंद ही नहीं है, बल्कि अनुभव के माध्यम से सीखना भी है।\"\n",
    "#sent = \"उठो, जागो और तब तक नहीं रुको जब तक लक्ष्य ना प्राप्त हो जाये\"\n",
    "translate_beam_search(model, sent, src_tok, tgt_tok)"
   ]
  },
  {
   "cell_type": "code",
   "execution_count": 60,
   "metadata": {},
   "outputs": [
    {
     "data": {
      "text/plain": [
       "'Not just enjoy life she also taught with experience.'"
      ]
     },
     "execution_count": 60,
     "metadata": {},
     "output_type": "execute_result"
    }
   ],
   "source": [
    "sent = \"জীবনের রহস্য শুধু উপভোগই নয়, অভিজ্ঞতার মাধ্যমে শেখাও।\"\n",
    "translate_beam_search(model, sent, src_tok, tgt_tok)"
   ]
  },
  {
   "cell_type": "code",
   "execution_count": 61,
   "metadata": {},
   "outputs": [
    {
     "data": {
      "text/plain": [
       "'The secret of life is also not only to learn through experience .'"
      ]
     },
     "execution_count": 61,
     "metadata": {},
     "output_type": "execute_result"
    }
   ],
   "source": [
    "sent = \"જીવનનું રહસ્ય માત્ર આનંદ જ નહીં પણ અનુભવ દ્વારા શીખવું એ પણ છે.\"\n",
    "translate_beam_search(model, sent, src_tok, tgt_tok)"
   ]
  },
  {
   "cell_type": "code",
   "execution_count": 62,
   "metadata": {},
   "outputs": [
    {
     "data": {
      "text/plain": [
       "'The secret of life is only enjoy learning through experience.'"
      ]
     },
     "execution_count": 62,
     "metadata": {},
     "output_type": "execute_result"
    }
   ],
   "source": [
    "sent = \"ಜೀವನದ ರಹಸ್ಯವೆಂದರೆ ಕೇವಲ ಆನಂದವಲ್ಲ, ಅನುಭವದ ಮೂಲಕ ಕಲಿಯುವುದು.\"\n",
    "translate_beam_search(model, sent, src_tok, tgt_tok)"
   ]
  },
  {
   "cell_type": "code",
   "execution_count": 63,
   "metadata": {},
   "outputs": [
    {
     "data": {
      "text/plain": [
       "'The secret of life is not only a study of life but also with experience.'"
      ]
     },
     "execution_count": 63,
     "metadata": {},
     "output_type": "execute_result"
    }
   ],
   "source": [
    "sent = \"ജീവിതത്തിന്റെ രഹസ്യം ആസ്വാദനം മാത്രമല്ല, അനുഭവത്തിലൂടെയുള്ള പഠനം കൂടിയാണ്.\"\n",
    "translate_beam_search(model, sent, src_tok, tgt_tok)"
   ]
  },
  {
   "cell_type": "code",
   "execution_count": 64,
   "metadata": {},
   "outputs": [
    {
     "data": {
      "text/plain": [
       "'The secret of life is not just a pleasant and learning through experience.'"
      ]
     },
     "execution_count": 64,
     "metadata": {},
     "output_type": "execute_result"
    }
   ],
   "source": [
    "sent = \"வாழ்க்கையின் ரகசியம் இன்பம் மட்டுமல்ல, அனுபவத்தின் மூலம் கற்றுக்கொள்வதும் ஆகும்.\"\n",
    "translate_beam_search(model, sent, src_tok, tgt_tok)"
   ]
  },
  {
   "cell_type": "code",
   "execution_count": 65,
   "metadata": {},
   "outputs": [
    {
     "data": {
      "text/plain": [
       "'The secret of life is not just enjoy and learning through experience .'"
      ]
     },
     "execution_count": 65,
     "metadata": {},
     "output_type": "execute_result"
    }
   ],
   "source": [
    "sent = \"జీవితం యొక్క రహస్యం ఆనందాన్ని మాత్రమే కాదు, అనుభవం ద్వారా నేర్చుకోవడం కూడా.\"\n",
    "translate_beam_search(model, sent, src_tok, tgt_tok)"
   ]
  },
  {
   "cell_type": "code",
   "execution_count": 73,
   "metadata": {},
   "outputs": [],
   "source": [
    "test = json.load(open(\"./sample_test_phase2.json\", \"r\"))"
   ]
  },
  {
   "cell_type": "code",
   "execution_count": 85,
   "metadata": {},
   "outputs": [],
   "source": [
    "sents = []\n",
    "ids = []\n",
    "for k in test.keys():\n",
    "    ss = test[k][\"Test\"]\n",
    "    ids += [i for i,j in ss.items()]\n",
    "    sents += [j[\"source\"] for i,j in ss.items()]\n"
   ]
  },
  {
   "cell_type": "code",
   "execution_count": 78,
   "metadata": {},
   "outputs": [
    {
     "data": {
      "text/plain": [
       "700"
      ]
     },
     "execution_count": 78,
     "metadata": {},
     "output_type": "execute_result"
    }
   ],
   "source": [
    "len(ids)"
   ]
  },
  {
   "cell_type": "code",
   "execution_count": 81,
   "metadata": {},
   "outputs": [],
   "source": [
    "trs = []"
   ]
  },
  {
   "cell_type": "code",
   "execution_count": 82,
   "metadata": {},
   "outputs": [
    {
     "name": "stderr",
     "output_type": "stream",
     "text": [
      "100%|███████████████████████████████████████████████████████████████████████████████████████████████████| 700/700 [04:15<00:00,  2.74it/s]\n"
     ]
    }
   ],
   "source": [
    "for s in tqdm(sents):\n",
    "    trs.append(translate_beam_search(model, pre_process_indian(s), src_tok, tgt_tok))"
   ]
  },
  {
   "cell_type": "code",
   "execution_count": 83,
   "metadata": {
    "scrolled": true
   },
   "outputs": [
    {
     "data": {
      "text/plain": [
       "['The rhizomes should be sown very finely.',\n",
       " 'It is located in the middle of the pond earlier pond.',\n",
       " 'These reasons include good contact details of good contact information is good option.',\n",
       " 'Raja Jai Singh II built in 1701 was used against Buddha on the world of 23rd and 1730 Bundi and 1730 AD in the fight of Buddha Singh II .',\n",
       " 'However you will feel a good experience before treatment 2 to 4 weeks.',\n",
       " 'The disease occurs from mental depression and mental depression.',\n",
       " 'Sit down towards the disease .',\n",
       " 'The last part of the rope should be kept inside the outside .',\n",
       " 'Beautiful beautiful beautiful beautiful beautiful',\n",
       " 'The island is popular for fun on a day for fun in the open road and those who disadvantages are for those who do not look at the future.',\n",
       " 'turn my alarm on my alarm please turn',\n",
       " 'The Portuguese of the Red stone have been discovered by the c of the Qutub of the Qutub of the',\n",
       " 'If you are present in any of those programs then a strange matter where people will see the people who are able to lose weight with sugar or wake up of coconuts.',\n",
       " 'Later he acted in several successful films including Bagwa Kir Haree Haree Firaver and Anal Ltdam.',\n",
       " 'The film also worked in the film especially in the film.',\n",
       " 'Go back to real and see how much relax you.',\n",
       " 'what cinema has played in any movies',\n",
       " 'Enjoy swimming or game in the hotel.',\n",
       " 'From 1741 to 1845 CE Chhattisgarh was under the Maratha rule.',\n",
       " 'On these temples and caves very beautiful sculptures are also seen .',\n",
       " 'how old is john s age',\n",
       " 'The spinal chakra is in the middle part of the brain that is between the two foetus.',\n",
       " 'Even she goes on the incident and show SUV in the lake.',\n",
       " 'For example you can say this cough pot does not work.',\n",
       " 'Therefore it is not sold more .',\n",
       " 'Tirunakara Cave Temple also known as Tirunakira Jain Temple located in Kanyakumari district in Kanyakumari district of Tamil Nadu India.',\n",
       " 'The density of the park is most rare most rare Alpine trees and plants of the Himalayas due to high temperature and extreme temperatures of the',\n",
       " 'The taste and culture of local art and culture has been found in the capital city of local arts and culture.',\n",
       " 'I don t want to give me the best I don t',\n",
       " 'After flowing through Nandadevi National Park it has fallen into the Dholi river near the Rini village.',\n",
       " 'As a good journey was at the pleasure of the journey along with that all the tourists had to go away with this also .',\n",
       " 'France based netball league was not started until the late 1980s.',\n",
       " 'It was first displayed in Mumbai film Festival in 2013.',\n",
       " 'The flowers have been sent to flowers as a result of a long period of long time .',\n",
       " 'make sure to make a trip ticket to chicago trip',\n",
       " 'Kanha National Park established in Balghat and Mandla district is spread in an area of 940 square kilometres .',\n",
       " 'popular channel s popular channel',\n",
       " 'The first World Championship was held in 1964.',\n",
       " 'The large island of Kaveri river is the best place of love .',\n",
       " 'The income obtained is also more and more produce is used in good yield .',\n",
       " 'Despite being the means of earning livelihood of 75 the farmers are forced to commit suicide in the jug of rice cultivation .',\n",
       " 'When Humayun s army began to attack and Sher Shah Suri Mughal soldiers rested their defensive base and regained them without the appropriate sentences and return to their care without the appropriate sentences.',\n",
       " 'The climate of Manas National Park is wet deciduous .',\n",
       " 'This dance is a popular dance of Gujarat .',\n",
       " 'Himachal Pradesh has made a Lord of the rural life by rural life people live around 90 percent villages and their life has given their life.',\n",
       " 'In this valley all monasteries and temples of the monasteries and temples of Churu Suru Suru solution of Kargil and Churu Suru Suru Suru Suru',\n",
       " 'sit on the beach on the beach is amazing.',\n",
       " 'After some days the number of visitors coming in the museum has increased a lot .',\n",
       " 'please don t let me wait for my delivery number now i don t be happy with my delivery number now in',\n",
       " 'bright lights bright lights bright bright lights',\n",
       " 'While keeping the hand hand hand hand hand with a large piece of paper make their imaginative book or toys with the bright colors of bright colored books or puppet house.',\n",
       " 'Apply this mixture around one hour before bathing in the morning and then wash your hair with normal water .',\n",
       " 'After this the expenses of powder for the entire life will stop .',\n",
       " 'set up the following events on the calendar with the following people',\n",
       " 'It seems that his one more brother had left his throne till his throne.',\n",
       " 'The formation of A.D. 400 C.g. 1020 Fahrenheit and more increase in the amount of',\n",
       " 'The most prestigious among these are the US based LPGA Tourism.',\n",
       " 'The tradition of bathing in the eastern part was used to bathe in the middle of the middle country .',\n",
       " 'I would like to see the formation of a single state with the Indus and Bal Balochistan to the Indus and Bal',\n",
       " 'change the song by the name of the poet poet all the songs of the people .',\n",
       " 'By making two ripe bananas mixing salt or curd in it dysentery occurs in some days .',\n",
       " 'turn off my wemo socket off',\n",
       " 'please turn off all the lights in the house lights',\n",
       " 'The length and height of this walls are gradually 15 feet 10 feet 10 feet high fort of Jwala Devi which is called Ujjaini Devi .',\n",
       " 'As per day it is used in theater extreme use of feet .',\n",
       " 'Filmfare critics praised the film s real Smart action thriller film.',\n",
       " 'In liver this medicine goes to the heart and the blood through the medium of heart pumps blood in every cell .',\n",
       " 'There is 1 5 10 50 100 percent .',\n",
       " 'Or if there is red pigr swelling over the mouth and below it is a developed face with only pain with pain in the upper layer of the abdomen.',\n",
       " 'Such kind of problem arises .',\n",
       " 'A person has right to take information and the responsibility of press is sure .',\n",
       " 'This deficiency of Vitamin A is considered the best measure to understand the condition of the eyes .',\n",
       " 'Dipa poison is caused by the mosquitoes produced in AGEGAG produced in AIDS.',\n",
       " 'When the fodder will be taken completely then irrigation should be done according to the need for 15 days .',\n",
       " 'Every year lacs of Jain and Hindu devotees visit this temple.',\n",
       " 'Enjoy your holiday in Kerala which is an easy state to travel to a network of roads and rail network of rail network makes a perfect state to visit.',\n",
       " 'Many also come to read and let them know that center.',\n",
       " 'change the color of the light color of the',\n",
       " 'Sandalwood and inner wood apple leaves are taken away from the stem .',\n",
       " 'Among the regions of Rajendra the Ganges delta was also included Sri Lanka and Maldives.',\n",
       " 'The best time to go to the beach is from September.',\n",
       " 'There are more than 60 places in the ice cream with it has a lot of work to see the rain and a bird sanctuaries for fun and bird sanctuaries and bird sanctuaries.',\n",
       " 'The wildlife sanctuaries of the state are Sipah Gumati Gumati Gumati and thirst Wildlife Sanctuary.',\n",
       " 'Bacterial meningitis is caused by bacteria in a variety of bacteria which are left behind the nose and throat one of the ten people and a long contact with a long contact and can spread through the spondylitis.',\n",
       " 'There is a facility of boating facility in Dimapur lake .',\n",
       " 'i.e.D. and ulcer is necessary in the disease',\n",
       " 'Like normally it was necessary to go on 13 thousand feet for going on in any height in any height of this area for the action of the body we had to stay here for two days .',\n",
       " 'The weight of Mukesh s head weight is very important subject to players.',\n",
       " 'Meghalaya also has an archaeological interest with the neighbouring Indian states.',\n",
       " 'Dr. Bhansa special paddy has been grown in Bilaspur with the name of Dhora rice harvest.',\n",
       " 'Most of the films of Yash Chopra are Punjab .',\n",
       " 'please show me the meeting with clients today with clients',\n",
       " 'The Malabar coast of Malabar coast is one of the most fascinating attractions of the most fascinating beaches in India.',\n",
       " 'The film begins with a school to be applied to a school to a school with her son poetry.',\n",
       " 'In normal situation if a woman has diabetes then its glucose test is done during 24 weeks during pregnancy .',\n",
       " 'If the food habits are not right then you can become victim of malnutrition prevention of malnutrition .',\n",
       " 'A golden opportunity to understand the nature criticism of books published from Vani published from Vani published .',\n",
       " 'Buddhism was once a major religion in Chhattisgarh.',\n",
       " 'Ray was considered an integral part of the scripture for direction.',\n",
       " 'delete item item delete item item',\n",
       " 'It is situated on the banks of the Rukmala River which is one km from the Arabian Sea.',\n",
       " 'In Singh II the men killed in 1820 Kol killed in West Bengal in 1832 in West Bengal.',\n",
       " 'both sides war occurred between both parties occurred between both',\n",
       " 'This way women also have a courage to face difficult situations.',\n",
       " 'It is free from the trident and 25 protein and has 25 protein.',\n",
       " 'Malyalam Maprab Annamalai based on the hills of mountains.',\n",
       " 'Meghalaya is located between 25 degree latitude and 15 degree north latitude and 45 degree range north and 45 latitude and 47 r ranges.',\n",
       " 'Most of the social life in modern Mizoram often gather around church often.',\n",
       " 'The city of Mysore is also known as the city of Maharashtra.',\n",
       " 'The price of its fruits in the outer countries is about 9000 per kilo per kg per',\n",
       " 'The trees which are found in the form of non vegetarian and if they have been amazed to have been found.',\n",
       " 'The result of the anger of the anger of the anger of the police forceful social status lack of social status lack of social status etc make each limit the life of the journalists .',\n",
       " 'Many temples have been built here later in it are the chief of the ghost temples of Jageshwar free Jageshwar',\n",
       " 'In extremely insulin the blood cells are taken out in blood and is removed by urine.',\n",
       " 'It may be better if you re pregnant.',\n",
       " 'we do n t have a good thing that we do n',\n",
       " 'Situated on the banks of the Parvati river this is a place of a beautiful holiday.',\n",
       " 'It has been written in the book that Akbar was written that Akbar was an extremely apply a lot of fragrance to his great aroma.',\n",
       " 'Tipu also closed the Marathas also closed to the Marathas whose Hyder Ali was sent to Hyder Ali .',\n",
       " 'The temple of the feet is at a little distance from the week of the temple',\n",
       " 'The camel ride is called the Samudic journey in Rajasthan from one place to another place to the sandy sea in Rajasthan during the second time.',\n",
       " 'In this way in which the absorption of potassium is continuously maintained and the storage of the soil is going to be reduced on the day of the day',\n",
       " 'Children s children who have their milk for a long',\n",
       " 'In the state there are offices of leading software companies like Institute of Communicable Diseases like HLBNT UST UST USTN and Sun Tripura.',\n",
       " 'Each person of Gujarat has a different happiness on the face of the face of every person.',\n",
       " 'From 1982 two is responsible a member of the film industry and Cycl Award for Best Supporting Actor and Cyst Award which is responsible for giving Oscill award .',\n",
       " 'Although many men also celebrate this festival because sixteenth day festival is not the Lingti festival.',\n",
       " 'If you feel enough exercise you do not exercise then you can increase the speed till you do not feel tired.',\n",
       " 'After about two years of its establishment by CNNC meaning when 24 hours news broadcast news transmission has been started again in the industry once again in the industry .',\n",
       " 'In young peanuts are mostly used as a primary diet as a primary food with peanut peanut peanuts and sweets and sweet peanuts are used as a peanuts in a peanut products.',\n",
       " 'Mrs Gandhi started his team from NNC s own group as a move.',\n",
       " 'We went to Mumbai International bus stand and three hours I did not come in Gujarat from Mumbai International bus stand and three hours but I did not',\n",
       " 'The unique beauty of history and architecture is the major center of attraction of tourists for the world heritage of tourists .',\n",
       " 'The major member of the team s head member of the team said that anxiety is sometimes good thing to worry.',\n",
       " 'i.e.g. l. l. l. l. l. l. l.',\n",
       " 'What are you doing this music',\n",
       " 'round worms often produce obstruction in intestines found in intestines with one .',\n",
       " 'If you have an appointment then they will work a large part of the complaint to prepare a complaint to start your claim to start your claim in the court to start your claim your claim.',\n",
       " 'Drink water in a day to clean the stomach to clean the stomach',\n",
       " 'While the climbers published their activities on 20 December 20th December Vulgagas did not take him away them .',\n",
       " 'Some early attempts to expand the ancient Chola country through Maravarman first Chola I were successfully stopped effectively.',\n",
       " 'This hill is a challenge for trekking lovers.',\n",
       " 'The acid and digestive juice is produced in the mucous part of the digestive acid and digestive juice',\n",
       " 'It is essential to make hay in the dry tropical regions that it is not good for its weight or dry days that the soil drying should not dry for it.',\n",
       " 'On coming here tourists feel the experience of cold weather here .',\n",
       " 'It is the most closely related virus with spond virus and is one of the two known virus in Spond virus species.',\n",
       " 'When we have more stress above it in the morning as breakfast as breakfast as we have breakfast.',\n",
       " 'Rahul Bose is an excellent actor .',\n",
       " 'Ajmers had taken the Alpses of the Ocar lake.',\n",
       " 'The affected part of the child s immune system becomes thin and weak.',\n",
       " 'TA attack on the plant which attacks the plant and sometimes small plants get damaged with a large attack and sometimes harm all crops.',\n",
       " 'But those tourists who visit this part of Kerala they like a dream country or the Supreme dreamland dreamland dreams.',\n",
       " 'Goa is the economic capital of India around Mumbai and is also a popular tourist destination.',\n",
       " 'Aroma of peppermint rose lemon or lemon juice is beneficial in all diseases related to liver related diseases .',\n",
       " 'The army and government had reached rank of significant positions in the army and non profile with many capable and non',\n",
       " 'The rail head of the Sundarban National Park is at a distance of 106 kilometres',\n",
       " 'The most important part of the state of Uttar Pradesh is the temple of the',\n",
       " 'There are two meals in which all the kind of Indian kind of Indian like Maharani cocoa Chinese cuisine are available in them.',\n",
       " 'According to specialists some woman can start feeling sleepy or bad environment by staying in bad environment .',\n",
       " 'The central farmers were rotated from 6 000 BC and he did not understand that it was not considered to take the crop of pulses or pulses crops of pulses crops.',\n",
       " 'In this the number of leaves increase in the beginning and after 3 months the number of increase in its number increases after 3 months',\n",
       " 'With this they can put the foundation of a new world information system rather than the Muntbol of information imperialism.',\n",
       " 'This example of high quality architecture built on the banks of the Betwa river was prepared with the help of King Bhoj and other scholars of the king Bhojan architecture and other scholar architecture.',\n",
       " 'In the success of this crop there is the most important contribution of the diseases related to its roots and its roots .',\n",
       " 'It is during this time in 1997.',\n",
       " 'This is one of the most beautiful and spotless birds of white color blue color is the sea of which you can spend at that time when they are floating in water.',\n",
       " 'For the development of bio te documentation the data in which new heights are mentioned in future for poor at the bio technology technology technology research has been mentioned in the future for the poor at the bio technology technology',\n",
       " 'In the decade of the decade of Nevada the CNAV war reached the war by live broadcasting in the war .',\n",
       " 'Generally cancer spreads rapidly but despite these symptoms these symptoms occur 10 to 15 years after being produced due to cancer .',\n",
       " 'Shiva temple was built by Lord Shiva at the su Shiva Temple Shashi Shiva Temple at the su Shiva Temple.',\n",
       " 'Plan a holiday trip to the magnificent mountain top of the picturesque valleys of the beautiful',\n",
       " 'The spice and kurfat product is also available in Kalpakutta.',\n",
       " 'Can I login to EPFO portal with another mobile number 920414321930 using UAN number 920414321930',\n",
       " 'genetic nature is found in the natural nature .',\n",
       " 'It is a common condition that the skin is usually dry and it is usually dry.',\n",
       " 'He was now not tide and went to the other village so that the tiger stopped the tiger and left the tiger also stopped the tiger .',\n",
       " 'Kishtawar Park is in the western Himalayas and its average height from the sea level.',\n",
       " 'It is believed to have been located on his Kab and Droit Island.',\n",
       " 'They are earning us expensive and selling expensive items.',\n",
       " 'The geographical location of the state allows the production of fishing and international fish production.',\n",
       " 'In areas where the water is more quantity of water but the disease is very high in tra cases is very high.',\n",
       " 'light pulses are cheap and eat a poor class in the large region of Madhya Pradesh Uttar Bihar.',\n",
       " 'In modern age information information is considered to be a pre din',\n",
       " 'He gave them a land gifts to establish a new monastery for establishing the monastery.',\n",
       " 'state five regional divisions are divided into five regional divisions.',\n",
       " 'In our ancient stories are definitely found that two head animals with two head but actually actually a person with two brain or sp brain or a person who will think about what does not think about the work or work.',\n",
       " 'How to travel in Paris',\n",
       " 'For example if the child is not able to develop a child s disease.',\n",
       " 'The disease is caused by the virus of hepatitis B and hepatitis A.',\n",
       " 'The beautiful and artistic beauty of the city is situated in the middle of the city.',\n",
       " 'Sele Lie based platform is a fixed platform and they support a variety of notes and two.',\n",
       " 'The fountains built in Rock Garden and statues built in Rock Garden are attract people towards itself .',\n",
       " 'In order to keep your health care provider s health care you may be able to take care of your health.',\n",
       " 'Dewan took the buffalo so that the milk of the buffalo s milk to the family s cost easy to',\n",
       " 'Because of which blood pressure keeps in body high blood pressure is high .',\n",
       " 'In response Sambhaji attacked Mysore in 1686 with his Brahmin friend and poet Kal poet Kal poet Kal poet Kal poet Kal poet Kal poet',\n",
       " 'Burma is also ready to show everything other to show .',\n",
       " 'The main source of vitamin B2 is vitamin B2',\n",
       " 'The river flows through the southern bank of the river basin on the southern bank of the river Mall Road.',\n",
       " 'Vig Gagog that is known as oar dal of black pepper pulses of black pepper are grown in the Indian subcontinent very small black pepper pulses black pigeon peas black pepper lentils etc .',\n",
       " 'When a outbreak finds out the prevention and control Committee should be reported and a outbreak team should be formed.',\n",
       " 'More strength is produced by keeping in sun for a day .',\n",
       " 'Due to the reason of the Bodo movement almost after the formation of BTC but after the formation of BTC the BTC administration are special efforts for its development and public development .',\n",
       " 'The leader of Kolkata Subhas Chandra Bose International Airport is the largest airport in the state.',\n",
       " 'In some time famous for hippopotam famous for hippopam is quite popular in tourists .',\n",
       " 'In general BLBIs can be used to set with high incidence of ESBLIs for low patients and illness more serious patients with high incidence of illness.',\n",
       " 'Show list of all available vaccination centres available in state Nagaland state Nagaland state',\n",
       " 'The birthday wishes or money can be written on your enfiff.',\n",
       " 'The restaurant built in this house is 40 different types of tea and food which takes the Nepal and Tibet like the Indo Greek and Tibet.',\n",
       " 'The diameter of the Stupa is 3660 metres and height 1646 metres .',\n",
       " 'Apart from this APEDA has been running market outside the country which is helpful for exporting Indian products in Europe.',\n",
       " 'The slide time 021 and then we will know about the ways of computing these gradient and partially derivatives.',\n",
       " 'Lac is a team sport that is played with lacrosse stick and Lacrosse ball.',\n",
       " 'It can be brought into use in the place of sugar.',\n",
       " 'They are soft and unprof and can use a distance with arzens.',\n",
       " 'In bacterial dysentery the cause of bacterial dysentery is the credit to capine on the abdomen .',\n",
       " 'This category is often given new micro micro microorganisms for which no resistance has been faced yet.',\n",
       " 'The gate in the north front of the Thanman Gate is the Gate of the Gateway of Hiran Wen Wooler which is Abhimba in the north of',\n",
       " 'In 1511 the first Mornam Island was established on the island on the island of King Carmarang is 40 km from Carang.',\n",
       " 'The type of samples during AMR test and surveillance can vary according to the nature of sample that means the specimen of animal meat should be sample from animal meat to Nimalin or ovary food.',\n",
       " 'Similarly the use of kentong slogan slum is used for this purpose.',\n",
       " 'The editor or mouth of these departments work independent form .',\n",
       " 'In the records the main secretary workers were the main secretary workers or Raajaswami or Ravaswami and royal',\n",
       " 'what s the weather this week is this week',\n",
       " 'The most common risk factors for gall stones of gall bladder and gall bladder stones is gall bladder cancer.',\n",
       " 'The problem of urine is common problem of women .',\n",
       " 'It is probably a known search for such arrangements in India.',\n",
       " 'So if you are visiting a developing country it is recommended for typhoid vaccination.',\n",
       " 'While at the time of death Bindushu Maharaj put the weight of dance on the weight of the dance .',\n",
       " 'There is a lot of facility for the news .',\n",
       " 'So what happened is this very fast you probably did not see people.',\n",
       " 'Picasso are making pictures using their sex from ten years.',\n",
       " 'There is a huge fair in Mustari during the chariot of chariot .',\n",
       " 'And while doing this they have seen that two things less than two dimensions is 0 because it is such that we have made it the formula and achieve this solution.',\n",
       " 'They usually try to stay away from the ring center so they can spread their opponents.',\n",
       " 'This is the condition that we are dealing.',\n",
       " 'The main crops are maize and pulses.',\n",
       " 'turn on the radio',\n",
       " 'Its name was changed during the around 960 Sung era.',\n",
       " 'In Ranji Trophy cricket teams also plays the role in his domestic matches Karna Singh and Harish Singh Stadium Delhi respectively.',\n",
       " 'Organic compounds convert chemical compounds and cells completely destroy cells .',\n",
       " 'No basis is visible to the vision .',\n",
       " 'Because of excessive constipation because of excessive constipation because of excessive',\n",
       " 'So we will say that I will increase the difference.',\n",
       " 'Before this a spokesman said that many passengers were taken off from Northwest Airlines aircraft and have been taken off for questioning.',\n",
       " 'It is not a ragams that in our past some sad events are Jwala Bagh which I will visit tomorrow s a painful example.',\n",
       " 'Madhya Pradesh is not only a rich collection of wild life and royal heritage but it is also known for its art and crafts.',\n",
       " 'The first mention of Swangs the play of the drama of Kalikasidas has received in Malikagmastan .',\n",
       " 'Generally I do not think that I do this is in the next step.',\n",
       " 'is it going on in the store on that day store',\n",
       " 'The hot tropical and high temperature may take a lot of water and keep in mind that you have to protect the ultraviolet rays.',\n",
       " 'Borivikun took part in the championship for fifteen years.',\n",
       " 'By consuming salt and lemon juice mixing lemon juice everyday there is benefit in indigestion by constipation and swelling of intestines .',\n",
       " 'This thing is said on the basis of a research done on 3 253 and above mentioned above .',\n",
       " 'Times of India gave Delhi safari 3 stars.',\n",
       " 'Women s lacrosse are 12 players and players have to follow some certain boundaries that are not present in men s sport.',\n",
       " 'From Mount Quail some distance from Mount Quail the British carpet of Morani fort and the circular roads make this journey more thrilling .',\n",
       " 'One gets benefit in piles by consuming salt mixed with salt for a few days .',\n",
       " 'Facting positive at the development of well being positive energy level memory effect was increased the risk of homocystin at homeopathy sulphin flute and strength.',\n",
       " 'So this will happen i plus.',\n",
       " 'Kedarnath is a natural place in 12 Jyotirlingas of Lord Shiva a natural place which is located next to the background of the grand Kedarnath range.',\n",
       " 'what is hairy',\n",
       " 'You should keep your shopping list in your shopping list.',\n",
       " 'Well friends have a list of people who have a age list of people.',\n",
       " 'In most informal conditions there were diabetes mellitus disease and leprosy disease of chronic lung diseases.',\n",
       " 'If you have any problem in teeth and take time after lunch after lunch .',\n",
       " 'what kind of weather can i expect today',\n",
       " 'This will be good but look we have made things a certain way.',\n",
       " 'But along with time along with time these diseases can occur as well as many places .',\n",
       " 'As a result the body s high blood pressure begins to show the stress of the body.',\n",
       " 'Only historical buildings in Lucknow are not worth seeing but the beauty of this place is also famous .',\n",
       " 'Ray should be followed by a sparring of sericulture.',\n",
       " 'Ram has many dreams .',\n",
       " 'In that age when T vaccines are recommended a system should be a system for the memory of children and children.',\n",
       " 'There are many web conditions and methods available on budgeting food such dishes which become available which become in less time and do not break your budget.',\n",
       " 'The whole family can roam around Sweden and every kind of pleasure can take pleasure of every kind whether they are like Captain or the rest of the outdoor games like skiing or rest of the outdoor activities like skiing or rest of outdoor activities like skiing can be a few swimming pooling rides like snorkelling rides like skiing or the rest of swimming or rest of adventure sports like',\n",
       " 'The Nanga River also called Langulia is one of the major rivers of the southern Odisha and northern Andhra states of India which flows between Rishikul and Godavari.',\n",
       " 'check calendar check the calendar',\n",
       " 'One of its first works renovation and returned to the Mahapaka program.',\n",
       " 'Express They connect Bogor and hilly areas and the Badaang with more population capital.',\n",
       " 'Although the cells are found in the prostate gland almost all prostate cancer cells develop through adenoids .',\n",
       " 'For example some may have seen that some of your life while watching the flow of the sea.',\n",
       " 'play my song for me',\n",
       " 'web search web search web search web',\n",
       " 'add event in the event add event',\n",
       " '29 per cent of serious complications are severe and 22 percent are dead under 22 percent severe weight.',\n",
       " 'LPL did also work in the duo song with Kishore and Mohammad Rafi along with Zakhya Rama Balram Ram Balram and Deadar.',\n",
       " 'So we will keep us look at.',\n",
       " 'Vikramaditya II later defeated the other traditional kingdoms of Tamil country and Cheras in Tamil country.',\n",
       " 'Kaundinya understood that it is a penalty to apologize and he decided that till when God does not express his equal penance till then he will do hard penance.',\n",
       " 'The summer crop of the cluster bean was cut into the form of green fodder after almost 80 days of sowing for fodder .',\n",
       " 'In the seminar Joshi came forward some aspects of his thoughts from that Joshi came in front.',\n",
       " 'set an alarm for ten am',\n",
       " 'It is excellent in saving from the sun rays and gives rise to 39 percent of the sun rays .',\n",
       " 'Most part of the fair is changed in the market and people perform huge business during this week.',\n",
       " 'This measures do not apply on persons living under a roof as soon as compared to those with their children .',\n",
       " 'So the main program was reflected and therefore its activation frame is reflected then its activation frame is reflected then its activation frame is present in the second call that is why its activation frame is present in the same activation frame is present which is present which is also executed.',\n",
       " 'Then suddenly all things become blind and never ends .',\n",
       " 'Sometimes gas occurs in stomach because of pain in stomach .',\n",
       " 'In Kovalam Beach is built on the banks of the mild waves and wake up with them the aroma of the aroma of local food and local people are very charming .',\n",
       " 'The government of Rajasthan government had strongly opposed the government of Rajasthan government on the river for reorganisation to reorganize the waterway.',\n",
       " 'Can you transferring my default bank account in Paytm .',\n",
       " 'It has been known now as Donde route to the bank of Sabarmati Ashram and it has been declared a historical heritage route to historical heritage',\n",
       " 'There is a good arrangement for stay here for tourists stay',\n",
       " 'Harish Chandra Sharma said that the Hindi people will not come to buy the festival in the festival .',\n",
       " 'Because of cold the reason of cold discharge comes out from nose from nose of nose because of cold .',\n",
       " 'can you tell me a good location to eat me to',\n",
       " 'start music start the music start',\n",
       " 'However the local volunteers from 2004 local volunteers are trying to save water resources.',\n",
       " 'The Man Mahal situated at a height of 18000 feet in Bharmaur of Chamba district is also mentioned in the lap of the Man Palace located at a height of 18000 feet along with the beauty of the beauty of the lake .',\n",
       " 'The plantation and forest college colleges are associated with Imphal the central agricultural University of Imphal.',\n",
       " 'There he got kidney kidneys done there .',\n",
       " 'pimples generally occur on legs and stomach etc on legs and stomach etc .',\n",
       " 'The frontier of the province of Palace is without the support of the Tuggerian Tuggeria s Tuggeria s Tanjangabad s',\n",
       " 'The wheat cultivation of women .',\n",
       " 'It is also used in the form of chemical farming .',\n",
       " 'In Oral Goa is still present in the sea level .',\n",
       " 'is there any new anything in any new anything',\n",
       " 'The success of St. Bar St. Barth s search s success story goes to Colomb Col Columb',\n",
       " 'On the top of the Mahas here tourists enjoy the pleasure of trekking on the snow slopes of the snow slopes',\n",
       " 'Hindi films did not touch any subject without touching any thing .',\n",
       " 'If the time you can stay for a two days on the road then any resort on the road',\n",
       " 'For some days he went to Calcutta after his brother Vahe Khan along with his brother Vahe Khan where he got very honor he got a lot',\n",
       " 'Please fill my PAN Card details to activate my Airtel Money wallet.',\n",
       " 'If we return back to the ancient times and on Indian mythological stories we can give the name of first reporter in modern words .',\n",
       " 'This area was probably ended in Kanyakumari so it goes true with the coast of almost around today s coastline.',\n",
       " 'find songs from my big band playlist',\n",
       " 'Devotees offer the temples of Sri Vrihadeshwar Temple of Thanjavur attract the temples of Thanjavur.',\n",
       " 'You should not be free of right measurement and a good company should be a good company.',\n",
       " 'India has 17 per cent of the world s population but India will expose 7 per cent of the world s world s',\n",
       " 'Do discuss about the relationship between your relationship and with your relationship.',\n",
       " 'Jama Masjid surrounded by black and white list all the pillars and pillars with the pillars of the pillars and pillars .',\n",
       " 'what kind of shops are near my area',\n",
       " 'Sri Nagar located at a height of 1730 metres above the sea level attracts tourists towards itself .',\n",
       " 'Make a survey of different agricultural products market survey of different',\n",
       " 'The use of bip surgery is not very old .',\n",
       " 'The tablet and high bridges and high bridges located on the banks of this river.',\n",
       " 'Bubala or Pakhwa dance does not use in the Bol dance of the',\n",
       " 'The school schools are generally used as the medium of English and Bengali language as a medium of their teach English language but is also called the Hindi language.',\n",
       " 'Are there any nearby vaccination center providing Free vaccine center for age group 1517 years in district Kollam which is Free',\n",
       " 'please please the current price price please please',\n",
       " 'Agriculture method is a major factor in agricultural planning agricultural planning agricultural',\n",
       " 'Meghalaya has the importance of a potential role that plays a domestic food in human history.',\n",
       " 'At the end of the history of the Sufi book is at the end',\n",
       " 'You get relief from cold by drinking ginger and honey thrice a day in a cup of tea three times a day by drinking',\n",
       " 'If you have many savings goals each set a monthly expenses will also have a set monthly expenses on a line.',\n",
       " 'Similarly one one should do from the other side to the',\n",
       " 'If you find yourself clean at any city of India or some centimeter in the water of the sea or river water of the river or',\n",
       " 'The heart beat can be clearly heard that the heart beat',\n",
       " 'Only three years was able to learn about three years then Pamba had to go to Nepal to Nepal help .',\n",
       " 'The four star hotels are hotels for the four star hotels but the Dal Palace on the Tr Pl Palace of the Iland Palace etc three star hotels etc .',\n",
       " 'During working in Lapnata they do not get enough rest to your hands during',\n",
       " 'It will know that the capital capitalism can against every crisis.',\n",
       " 'In the 17th century the French beans shown the death of thousands of people from Patna in 17th century by French',\n",
       " 'C pressure because of the pressure of stress',\n",
       " 'start the start on the head start',\n",
       " 'All forts and palaces can be seen a clear glimpse of Mughal period architecture in all forts and palaces of',\n",
       " 'The Durga Temple built in the 10th century is the contemporary of the Jag Ambika temple and it is considered built during the rule of not a guest rule during the rule of not a Gu ruler .',\n",
       " 'During these days the problem of cold storage is increase in the problem',\n",
       " 'In June 2007 Madras High Court formed a committee of five members to determine the health rights of the workers of the feet of the workers of the workers of',\n",
       " 'who is appointed as the sub tropical sub t of Uttar',\n",
       " 'The movement should be free from co operation movement.',\n",
       " 'Generally it is done in a single series.',\n",
       " 'In 1787 Tipu Sultan sent a rule to the Ottoman capital Kanpur Sultan Abdul Him Hamman Sultan the first of the British East India Company against the British East India Company.',\n",
       " 'Muhammad Gin was killed in 1030 AD in 182 AD by the British had brought this door from the G Ghazi in 1842.',\n",
       " 'The institution was built in Man Mohan Babu Raj Anus Rele Rahman and many other major films of Abraham Challur Arjadhan Akhtar Arjad Chandan Pant Pazal Paleidhar Ram Chaudari Ram Churi Ram Chaudari Ram Chaudari Ram Chaud',\n",
       " 'Its plants are strong and strong .',\n",
       " 'The birth rate in hilly areas is less in comparison to the field areas in comparison',\n",
       " 'Many fountains here are the biggest attraction here in the palace here.',\n",
       " 'respond out quickly and respond to Ath quickly',\n",
       " 'list college sports for tomorrow in chicago',\n",
       " 'In areas with an increase in the species of animals live all kinds of birds but in Australia this type of mammals species of around 140 types of species and many kinds of fishes are found found in Australia.',\n",
       " 'There are many such complications still in front of us which are stopping growth in this area.',\n",
       " 'In the patients of genetic Roman menopause disease 450 ml blood is taken out every week because of which there is no increase in iron deficiency .',\n",
       " 'hey olly play me popular hip song',\n",
       " 'Can you list all vaccination centres available for age group 18 years can you list all vaccination centres available for COVOVAX',\n",
       " 'hey siri show me the list of osclushes',\n",
       " 'Its rice is produced in the quality of taste of bitter taste of bad quality .',\n",
       " 'The region is spread in an area of two to three kilometres from both',\n",
       " 'After independence Madhya Pradesh and Bhopal state were merged in 1956.',\n",
       " 'can you show me the list of all my latest emails lists do you show',\n",
       " 'schedule a specific time for each month to meet your financial plans for discussion about your financial planning plans to join together',\n",
       " 'They are played specially in the context of a new year .',\n",
       " 'This disease causes constipation and eye weakness in indigestion and eye weakness of eye',\n",
       " 'The main news agencies of PTI and UNI in our country are PTI and UNI in our country',\n",
       " 'From the point of view of health it is more important that the child is rich with different elements.',\n",
       " 'There are several different types of pheasant and the female animals and the female',\n",
       " 'You know the ties that you have been known.',\n",
       " 'Swif Sherubtie is at a distance of 4 kilometres .',\n",
       " 'The crocodiles being seen on the Cash river is seen in the mung bean and the dolphins found in the Bay of Mungi river has also been seen in the C',\n",
       " 'They are the feeling of sad that they give the feeling of the ability of the very less artists who gave the feeling of the less artists in his style .',\n",
       " 'switch off the light color of light color',\n",
       " 'Beautiful figures have been built on the floor of the domes of the hall .',\n",
       " 'If you are not able to manage it find a small home',\n",
       " 'Saturated fat should be given only 15 percent only .',\n",
       " 'They are not made as the form of their design but a special technique is made from the special techniques known as the commercialization of the industrialization.',\n",
       " 'Please transfer Rs 7717666117666780 to my march 7717666780 to 77176680 .',\n",
       " 'There is more demand of Tata rose cut flower here .',\n",
       " 'By regular exercise your body is not only but your mind will also remain strong and you can also get yourself up in any difficult situation .',\n",
       " 'Professor Karisala said that this research was not a reason to keep these researchers and complex climate response to the complex weather respond to keep this research is not a reason to keep the hole hole hole hole',\n",
       " 'He is the recipient of some aspects of Hindustani music and has been awarded several ragas such as Yama Shila Sila Sila Sila Sila Sila Sila Sila Sila S',\n",
       " 'It is actually true that if it is not going to be wisely in Japanese language.',\n",
       " 'As you give you an advisor can invest your money in more better way as you provide information you your money.',\n",
       " 'set alarm at six am alarm set six am',\n",
       " 'when is my food here when my food here',\n",
       " 'Besides this other symptoms can be seen in the stomach of the patient with the water',\n",
       " 'There are several forms known for Ring games called Rugby races.',\n",
       " 'Akbar was considered to be a sacred animal of the Hindu wife and other Hindu wife of Magazu and the other Hindu wife of Magazia as he was considered holy animal in the Hindu religious',\n",
       " 'In the recent decades Marathi Tama and some experimental plays have been included in some experimental plays.',\n",
       " 'The 63 milk products are obtained from Gujarat and Gujarat.',\n",
       " 'Find different structures such as bright colors with bright colors and sound waves that spread different structures such as bright colors and sound waves that spread India.',\n",
       " 'You can also open your heart and shopping here you can also',\n",
       " 'With the coming out of the Hindi sector the poets and worship of the followers of Maharashtra was seen in the form of institutions such as Maharashtra and West Bengal had received more respect than literature from the political leaders who had been associated with literature .',\n",
       " 'A small taxi is a small taxi boat built with a height of 415 feet above the feet of the mattress and the mock cart made with a foot long',\n",
       " 'Most football clubs were active in Sweden in the first half of the 20th century and bandy clubs were played',\n",
       " 'Along with being prepared according to the needs of your diet the study of the quantity of the quantity of the quantity of the quantity of',\n",
       " 'understand the difference between cholesterol cholesterol cholesterol cholesterol and fat cholesterol',\n",
       " 'If you go back to Thailand then this place has understood the first number of tourists here .',\n",
       " 'It is said that the film is the film directed by Le Le Le L',\n",
       " 'For registered application ID 3 and date of birth 10112019 and find all applied Fresh scholarship applications in academic year 2006 2007 in the academic',\n",
       " 'In order to get',\n",
       " 'In order to get',\n",
       " 'The best place to practice yoga is for yoga and peaceful place .',\n",
       " 'This exercise is beneficial in the eggs that exercise',\n",
       " 'wake up at six am and at nine p. m. lunch at nine am and start breakfast at',\n",
       " 'The tr specimen of the contemporary pattern are the',\n",
       " 'what was post today',\n",
       " 'In order to get',\n",
       " 'There are many programs based in films and parts of the film songs are found',\n",
       " 'The importance of this knowledge is the most important among our body .',\n",
       " 'These caves mention these caves by the Archaeological Department of India and mentioned in the book by the Archaeological Survey of India which was written by James B James B Burma.',\n",
       " 'Bh Bhuljur Fort is a fort situated in the Bhuj town of Bhuj district in Gujarat India Gujarat India.',\n",
       " 'The person who makes mustard oil healthy on the head of the person with mustard oil on the head for a day',\n",
       " 'These can be called as a child s condition.',\n",
       " 'There are many types of cancer of cancer in men and in the women s reproductive organs and the cancer of reproductive organs the cancer of gall bladder and gall bladder cancer of gall bladder',\n",
       " 'The diversity of the tribes and tribes have their own culture and tradition which gives the environment for a year a year.',\n",
       " 'There are more than 15 000 festivals in the state are celebrated every',\n",
       " 'Along with it can also be used for the treatment of gas and gas related treatment of gas and',\n",
       " 'If you are a non vegetarian non vegetarian diet then the facility of send a non vegetarian diet and non vegetarian driver .',\n",
       " 'How does the news media respond to the potential relationship with Russia with Russia.',\n",
       " 'It should be 32 cm less than 125 cm or 38 cm or 38 cm in 15 ginger.',\n",
       " 'Notable wrestling rules played under Shoot boxing rules include Red Kubk Kubat Kubat Kubat Hon Kubat Hira Shroff and Saif Shiro Shiro Shiro Shiro Sh',\n",
       " 'let us hear songs or dialogues or dialogues',\n",
       " 'My PRAN number is 580622364045 can you check my Pension amount my Pension',\n",
       " 'Therefore it is necessary to save from unnecessary decoration .',\n",
       " 'If your result is negative then you will have to pay money even after the time limit time.',\n",
       " 'The shop of Jamnagar city is very popular but there is no courage to buy more than the price .',\n",
       " 'There are facilities available to see birds in this area and to go to the forest',\n",
       " 'Dadra Devi was worshipped to worship Lord Shiva .',\n",
       " 'It was built by the Vijayanagara emperor but was built by the Yadav kings in the 11th century by the',\n",
       " 'Do not eat food items sold in fruits and roads and roads .',\n",
       " 'Meanwhile Dhankodor Bala and NR IRAI RVAs and NR IR',\n",
       " 'Its wide four gates are of its wide four G',\n",
       " 'As soon as Kho s younger sister s younger sister s younger sister was a 28th',\n",
       " 'In the midst of the golden sands of Vattavada the Madhav and sweet Dhulas of Rajasthan have been converted to all the tourists in Rajasthan during the time of taking all .',\n",
       " 'The Satavahana power was revived by the Satavahana rulers considered to be the most important in the Satavahana rulers .',\n",
       " 'The four glands found in the upper part of the thyroid gland which is found on the surface of',\n",
       " 'This lake is only one of the two km area of this lake near the lake .',\n",
       " 'The last state assembly elections held in 2008 after five year government in 2008.',\n",
       " 'The relationship with Shiva s relationship with Shiva is a common time to visit the people festival.',\n",
       " 'The game has two basic conditions where the ball can be played according to these rules and not can play the ball',\n",
       " 'The treatment is such that the sun charged red sesame oil prepared by sun charged red sesame oil prepared by sun charged red sesame oil prepared by sun charged red sesame',\n",
       " 'By doing this treatment the end of fibroid is done by understanding it can be removed by which the treatment can be removed .',\n",
       " 'Sikh scientist Bhai Guru Bhai Guru Nanak Ji was born this day in his K Bobby who was born this day.',\n",
       " 'In order to get',\n",
       " 'Use the whole cereals and pulses vegetables etc .',\n",
       " 'There are 14 stupas in Bhaja N Cave 11 of Bhaja Nambhat Cave there are 14 stupas 5 inside and 9 out of 9 out and 9',\n",
       " 'how many meetings are my calendar today',\n",
       " 'The Nizam said that the American war are still alive and every two weeks of each and every two weeks are going to be living and there are still living in the American war and',\n",
       " 'The Hindi film industry has shown that Amitabh Bachchan is suffering with this disease.',\n",
       " 'The months from November to May are appropriate for tour to National Park .',\n",
       " 'The crops of the field crops such as dry fruits and vegetables are also cultivated in rabi season.',\n",
       " 'This disease is found all over the world except the hot and dry areas of peach and dry fruits of peach leaf disease .',\n",
       " 'Some simple options will be available for your coffee shop or buy books to buyers or buy books for shopping shows.',\n",
       " 'five year plans plan five year plans',\n",
       " 'This project is prepared by this scheme which provides health to 98 people with all kinds of nutritive elements and nutritious food to the body easily available in the body .',\n",
       " 'Rajendra fought several wars with the Western Chalukyas with the Western Chalukyas several',\n",
       " 'All the districts of the mountain range are below the birth rate in two districts .',\n",
       " 'Therefore in the burning of the brain or nervous system of the brain a group of fluid of fluid of the brain or nervous system and nervous system of nervous system .',\n",
       " 'Each economy has its own needs as each business has its own unique protein and its own unique protein.',\n",
       " 'In 2014 it was controversial so in 2014 that the college football play was converted into a college football game was converted into a C',\n",
       " 'There is a collection of books and books of fine arts of the Himalayas in the Himalayas here .',\n",
       " 'Use of basil use not used to be used to take',\n",
       " 'In case of gas there is excessive gas in the stomach then there is relief in the',\n",
       " 'i want to see the news about politics news',\n",
       " 'Pine stock options are usually available for a low cost and sometimes below five dollars in a dollar lower price.',\n",
       " 'Which are all the varieties grown in which are produced',\n",
       " 'The deficiency of nutrients in the soil is seen in more soil but some land is not such land .',\n",
       " 'In recent recent recent this wrestling method is prevalent in other countries',\n",
       " 'Make sure that there is a technical problem in electronic or online service you can be able to clear what if it is a',\n",
       " 'With the beginning of the 19th century Tamil Nadu had confirmed the rule of the British rule over the',\n",
       " 'What do we do n t let me do not let me know s ware',\n",
       " 'check the child regularly check the child',\n",
       " 'Can I login to EPFO portal using another mobile number 33164133253632536 Can I login to EPFO portal using',\n",
       " 'Many types of medicinal tea began to be available .',\n",
       " 'The district headquarters at a distance of about 35 miles away from Balkotpur a young farmers who made both the thoughts and the thoughts of the village Barkar s thinking and pictures of the district .',\n",
       " 'Though the most popular sport in Sikkim is football and cricket the Hang Gl Tob Tobbazk and river rafting is popular as part of the tourism industry.',\n",
       " 'When the investigation and cut and cut and cut and are not known the investigators are arrested the investigators are arrested and arrest the violence.',\n",
       " 'Meer s name she shows him to call R stop her power using his power as Mer .',\n",
       " 'In the same text the place named Dhanushka is still said that in the palace is a place in the',\n",
       " 'On the four evening the number of people gather in Ganga to pay attention to their relatives .',\n",
       " 'If there is delay if the flowering will be too dark then the flowers will become',\n",
       " 'The situation of the farmers of the communism was full of conflict with the issues of the farmers',\n",
       " 'In 1980 yield per hectare in 1336 kg per hectare from 1336 kg per hectare in 1990.',\n",
       " 'Do not eat vegetables different vegetables at the weather conditions',\n",
       " 'The middle class of middle class is seen more .',\n",
       " 'i want to listen to the new podcast about hip hop podcast',\n",
       " 'When the problem of the start begins to remove the problem of the S. P. P. S. P. P. representative',\n",
       " 'Thousands of people came from the Cambridge Cost World Health Organisation during the 1960s when thousands of people came to come from the Commonwealth Games.',\n",
       " 'It was said that they had shown the war that they were shown in the war war war war .',\n",
       " 'dance and folk songs play songs and folk songs',\n",
       " 'what is the medicine for swine flu',\n",
       " 'set an alarm for my work tomorrow set for my work',\n",
       " 'A tree with a thin cloth is appropriate during a wooden stick.',\n",
       " 'If you have to check the border and form of advertisement should not be able to make a good Abhishek on the approach of the readers will be',\n",
       " 'Islam based social professional social psychologist Dr. Yon Yonoov who had a lot of his life problems and death in his life with fear of death and death to death and death of dangerous conditions.',\n",
       " 'On reaching the lap of the Arabian sea from the lap of the Arabian sea the journey of the Arabian sea',\n",
       " 'millions of Indian tourists come to the home of tourists of Mahatma and his wife Kasturipur .',\n",
       " 'Jhelum at a height of 1730 metres from the sea level is spread in the heart of the Kashmir Valley at a',\n",
       " 'repeat the song playing the song playing now playing playing',\n",
       " 'The most important role in increasing energy production capacity of energy level is given in which more attention is given to use sun energy energy in using sun',\n",
       " 'Indian people could not understand the media but not just not just not able to understand the media of mass',\n",
       " 'People suffering with this infection go to many times to death .',\n",
       " 'The acid present in the animals give special attention to the animals by the use of oxygen to the body and the end of the animal breathing becomes dead at the end of the death',\n",
       " 'When you can always go to Lucknow you can go to Lucknow',\n",
       " 'green mint sauce helps to reduce weight with a little spices by making a little spicy',\n",
       " 'what are around me what are around me',\n",
       " 'In the collection of frys collection of many people used to create different from the fusion of bill .',\n",
       " 'In the age of 12 years old age when diet control is 90 percent in those who are old age in age of 90 percent',\n",
       " 'Can I invest in mutual funds through my PayZapp wallet Can I invest in mutual funds through my PayUmoney wallet',\n",
       " 'This temple is dedicated to Krishna in the hilly part of a temple which was completed in 1998 and it is dedicated to Krishna and it was built by Hare Krishna group and was built by the H Ram Balram H',\n",
       " 'The lush green grass fields of grassy grass spread in the heart of Ireland s grand flowers and cope with its exquisite arts and fine arts to be a good position in the world s grand gardens.',\n",
       " 'In various states only efforts are being made to reach this order to find out the solution of the order to achieve this',\n",
       " 'After this give sun light is kept in Tappa and they are kept in Tappa.',\n",
       " 'i want to know what is my birthday on twenty third and the twenty third day what is on',\n",
       " 'After crossing a beautiful small city we go on the left side of the highway on the left side on the left side on the north side',\n",
       " 'In such a way the tourists who do not have any other than the other than it s best for it .',\n",
       " 'The Congress groups also choose Congress groups including senior leaders and administrative offices including the senior leaders and administrative activities including Congress',\n",
       " 'If you are young age around you consider putting you a night to keep them up as a help you set up.',\n",
       " 'After six months he was converted to Agra and then the tomb was built in the tomb of the sacred place in the Taj Mahal',\n",
       " 'Keep them in a bottle by applying them on grinding with cloth grinding in a paste .',\n",
       " 'Leukemia is not able to take anything out on the right lower part of the lower part of the stomach of the patient does not take',\n",
       " 'After the date of 93 years the response to the power of two also held in 1982 in 1982 and the response to the power running throughout the year.',\n",
       " 'save yourself from drinking alcohol consumption and intoxicating habits .',\n",
       " 'Due to the awareness of new energy the country and knowledge will have two and the knowledge of Junavi both .',\n",
       " 'Ahmedabad s handicraft items were opened on the 1973 Ashram road and now the name of an ordinary provide a certain normal supply is now available at',\n",
       " 'Let us mention that we are about the pre feled rice of Delhi which is a personal unique aroma and taste.',\n",
       " 'Pattaya is located 147 kilometers from Bangkok and is located in the coastal section of the west side of the Sukhna road in the west side of the west.',\n",
       " 'After giving sun light by some heavy cloth warm clothes keep it warm with some dreams .',\n",
       " 'It starts from Japan from Japan .',\n",
       " 'In 1782 Panhala was the capital of Marathas but later came under the Maratha British Empire.',\n",
       " 'Patient does not feel restless because of not getting sleeplessness and restlessness',\n",
       " 'Ban farmers have interest in banana production.',\n",
       " 'A number of friends are often shown to welcome the guests to welcome the guests to welcome the guests to welcome the guests to welcome the guests on the occasion of birth and a variety of music.',\n",
       " 'A camel safari which is seen in Lake Manyara is surrounded on the body of the world s body .',\n",
       " 'Similarly you can spend a day at a distance of 160 km from Delhi and 160 km away from Delhi in Bikaner and Krishna soup also in the Krishna soup of Mathura .',\n",
       " 'With changing the sun rays changing the color of the lake also change the color of the',\n",
       " 'Boper disorder affects both men and women .',\n",
       " 'A little bit more grass grows sprou sprou sprou sprou',\n",
       " 'will there be dark bright bright light here',\n",
       " 'how much is a us dollar in the us dollar dollar dollar in',\n",
       " 'However the ancient name of the city was Parvati or Parvati so Greek name as Greek name is Bislias.',\n",
       " 'Which institute got AICTE approved in the academic year 2002200300',\n",
       " 'Vitamin B6 is found more in the form of eggs in it .',\n",
       " 'The house of the village is a home in the local style of the Bhang house that offers a view of the architecture of the city.',\n",
       " 'Beans provide a series of tourists to enjoy a lot of adventure lovers.',\n",
       " 'If you know about a joke in Ireland you can find out the name of a boy Edman Edman Edman Tara Oman Tara Oman Tara Oman Tara Oman Tara Ton Ton Tara Tara Tian Tian Toy Ton Ton Tennon T',\n",
       " 'The effect of the effect of the food warm is called the diet of the diet of the diet of the diet is called the',\n",
       " 'Ahmedabad railway station is the largest railway station in Gujarat and all major cities in Gujarat and India.',\n",
       " 'The food here is a cheap therapy as compared to the food here .',\n",
       " 'The first city has been chosen to change the environment of the Indian government and forest life tourism to change the environment of the',\n",
       " 'She felt that she feels like going to go to the film but he feels his first step into a bar called a punishment.',\n",
       " 'The early point of attention is still very affected by the fact that the child is equal to act as well as bods.',\n",
       " 'give me the time of new york time now',\n",
       " 'It is certain that the body is a disease related to kidney disease or nerve related disease in diabetes patients with diabetes',\n",
       " 'Now every fruit is kept in such a way that the root of the plant is removed or not the root of the plant is',\n",
       " 'Watering speed is beneficial in cycling or light sports swimming or light sports etc .',\n",
       " 'Further most of the people of peanut oil peanut oil risk of peanut oil is not known to have any other',\n",
       " 'create a meeting with at six p. m. tomorrow at six p.',\n",
       " 'Thus this species of this deer park is specially preserved in Jodhpur and the seeds are collected two times from them .',\n",
       " 'Treatment methods may be used to be related to mental health and medicine related to medicines.',\n",
       " 'Before this in 1954 he was first came to receive a rupees one thousand and one thousand rupees to Kolkata in 1954 from Kolkata.',\n",
       " 'night time night night night night',\n",
       " 'If there is no alternative way to go to the railway station or destination or both train station or destination or both rail stations are not alternative way through',\n",
       " 'This wish was a competition that he started playing the exhibition of his unique things in house .',\n",
       " 'We should only stop eating food and stop using any fiber like flour and clean se flour and without removing any fiber.',\n",
       " 'Near the city Dalpho and Wonder Valley is a center of attraction for the tourists .',\n",
       " 'Aconite 1 and Ipecac 1 and Iibak patient there is difficulty in it .',\n",
       " 'However the city of South West Bengal is also known for its rich region and the Al Angelo Mungo Mungo Mungo Mango M',\n",
       " 'A food allergy will help you make your child a treatment plan after ensure your baby to ensure your child s child',\n",
       " 'Taragarh is a hill station in the district of Khand district.',\n",
       " 'The teachers of newspapers only newspapers were the local people who were the local people .',\n",
       " 'In this incident 337 men killed 41 men and a six weeks of age group and a six weeks were killed.',\n",
       " 'This disease can occur in men and children but often this disease occurs only in women .',\n",
       " 'In such a condition itching occurs from sc itching and the skin of the skin and the affected',\n",
       " 'These people do not buy milk and apple and apple that they do not buy carrot regularly .',\n",
       " 'do not make my list not take any longer',\n",
       " 'Its clothing and these things are often qu qu query and are thin and thin.',\n",
       " 'If you go to the new place then you can enjoy fun with your favorite food items .',\n",
       " 'international women s day news on international women',\n",
       " 'This specific species are known as Mizo people that means the name of Mizo people that means people who have the name of their ancestors as the origin of J Mizo means J origin of J origin of J',\n",
       " 'Slow tet t using a tet tet tetra helps in reducing the quantity',\n",
       " 'The natural model of the modern figures that it was not possible to take more details than that of the earlier generation of engineers could have shown that Kumar s natural approach was very correct',\n",
       " 'Groundnuts are destroyed and they are planted in their place.',\n",
       " 'While giving enema to one person should not go inside the right also which was not able to go inside a little distance .',\n",
       " 'The King was considered as the founder of the Lohara empire established as the Loh',\n",
       " 'Ratan Sen s influence has suggested that Ratan Sen to find a good woman for him.',\n",
       " 'This dam provides irrigation of several thousand hectares of agricultural land in Hadabad district .',\n",
       " 'Like other industries other industries also fight against your business with you .',\n",
       " 'There are two important water water and cold water with hot water and cold water in Badrinath Temple .',\n",
       " 'In 2012 Kumar s last song was released in New Delhi on 156000 in New Delhi s movie O s movie O s release in',\n",
       " 'forests all the news',\n",
       " 'Its treatment is of two types two types .',\n",
       " 'The wheat seeds should be developed by the agricultural scientists that the lack of oil seeds of wheat pulses and oil seeds should be developed.',\n",
       " 'I want to login to EPFO portal using mobile number 69893870327032 and fetch my EPFO passbook statement using UAN number 2289552685368536',\n",
       " 'In 1975 the project faced protests from the project and around 10 000 dams against dam in 1978.',\n",
       " 'The research and development of Pakistan s NGwalking and development programs in Throw also started implementing the Sa Traction in six villages and six villages of Thondana.',\n",
       " 'It is very useful in medicines that are used very good in medicines.',\n",
       " 'The government refused to stop the growth of the price of the onion because the price of the price of the onion has refused to stop the export to control the price',\n",
       " 'what are my appointments today today',\n",
       " 'During the month of month during the month of months the requirement of private parts increases .',\n",
       " 'Some people are unable to take care of some problems and even a small problem can not even be able to guess the fear of fear',\n",
       " 'skiing started learning new techniques of skiing here .',\n",
       " 'This does not find out the store that you find any name store that you have any name here.',\n",
       " 'For a healthy woman needs 2000 calories in the whole day but the girls try to stop even less than 800 calories in the desire to become thin than 800 calories .',\n",
       " 'what is an alternative therapy',\n",
       " 'You should also talk about the money with your child to contact your child.',\n",
       " 'remove the list of people start from Akshay media in my contact list',\n",
       " 'start f. m. podcast start f. m',\n",
       " 'send me all emails received between ten am and seven am every day at seven am and seven am every day',\n",
       " 'The juice fast and acidity reduces immediately by its consumption by its consumption by its consumption',\n",
       " 'Kerala s influence is seen only in the southern districts of northeast monsoon',\n",
       " 'how hot water is boiled rice etc in it .',\n",
       " 'To set a repeat event set a repeat event',\n",
       " 'i need to know about this song',\n",
       " 'A German scientist P Paul RudolF 18581935 first time got successful in making a complete tele clubs for making a complete tele cl',\n",
       " 'It is believed that the first seat of power is in the campaign from before the time of the period of the',\n",
       " 'Beautiful views visible from this height all four sides are visible from',\n",
       " 'The history of television can be said to be till 2000 from 1993 to',\n",
       " 'find me the grocery store with the Ar organic department near me nearby',\n",
       " 'olly i need to wear my hands wear my hands wear gloves before',\n",
       " 'The forest cover areas covered with forests in the forest area was habit to go in the middle of the dense forests in the',\n",
       " 'I did not just know the reason of pain because of',\n",
       " 'Keep in mind you should take a fixed time when you sleep and you want to',\n",
       " 'There should be exchange for each level so that different artists can identify different artists from the cl different artists from the cl different characters .',\n",
       " 'As far as possible use of triple super phosphate and potash should be used in the farming of jowar .',\n",
       " 'It is said about different parties of the independent rights of independent rights from 1919 to 22 of the constitution of the Indian constitution',\n",
       " 'In the article of Britain s science world in the article published in May 1942 he has presented a line of artificial land the method of artificial land in the article of the collection of artificial land .',\n",
       " 'In this secretion comes out from vagina .',\n",
       " 'Salim Dev a member of the Tripuri royal family was a member of the Indian music film career in the music film of the Indian music film .',\n",
       " 'Consider how much you can spend 20 other place before going to increase the amount of the vehicle to increase the amount of',\n",
       " 'The seed rhizomes should be treated with a mixture of 30 minutes until 30 minutes.',\n",
       " 'There is a custom of living in food and natural treatment .',\n",
       " 'But red colored g colored garsis are not available in market market market',\n",
       " 'Taking a small piece of it in it and make a paste of milk and a pinch of saffron by mixing milk and saffron.',\n",
       " 'In the other words if the workers will increase the productivity of the workers will not increase in their life standard of their life',\n",
       " 'Its eastern border is the main Anamel Range Range Range Range',\n",
       " 'For example the German Shashkunds and Pigs health problems are affected to the problems of the health problems.',\n",
       " 'Bism is also being done for the convenience of P P P Palkrishna by U Hostel .',\n",
       " 'After the pain in the liver the actor was taught in the hospital after being revealed in the hospital',\n",
       " 'Blood clot in the roots of blood cl bleeding in the',\n",
       " 'Although exercise in external treatment exercise of oil massage and head etc will go on its own by itself .',\n",
       " 'Hazb Baghdhaat is one of the places where paintings put on rocks on rocks are a special place in the world .',\n",
       " 'cricket is very popular among the recent field hockey more popular than',\n",
       " 'The best rock phosphate and waste mica can be used in agriculture in the form of best rock phosphate and waste micronutrients in the form of phosphorus and potash in the',\n",
       " 'The climate and land related conditions bring significant difference in the forest varieties of the state s forest varieties in the',\n",
       " 'By digest eat salad eat nutritious substances and keep the stomach clean the stomach clean and clean the stomach clean',\n",
       " 'what are new rock radio stations',\n",
       " 'There can be problems related to memory problems related energy in those who take the medicines',\n",
       " 'Many times the lower soil goes away from his place then the base of the upper part falls down and the climber falls down down and falls down .',\n",
       " 'Note that the law without any thing is not a subject or any businessman or without any business or any businessman without any business.',\n",
       " 'p Pacific world s largest ocean in the world',\n",
       " 'The history of Bihar history is very prestigious .',\n",
       " 'do i have any new tw lists i have any new',\n",
       " 'Small eyes are also important in small things .',\n",
       " 'can you find can find for me for me',\n",
       " 'This pilgrimage center is going to be moving in Bhogla for the fans of the tourism center of the tourism center of the country.',\n",
       " 'It should be clear that in any conversation or information of any conversation or information',\n",
       " 'Wanaganga Paranga Paro river flows out heavy water in the Godavari river basin .',\n",
       " 'The administration of the Satavahana kings following the administration of the Satavahana kings following',\n",
       " 'If there is cold then you are waiting for your wait for fat and hot chocolate chocolate chocolate chocolate and hot chocolate chocolate chocolate',\n",
       " 'There is a link between 45 cm long length in this temple in the',\n",
       " 'remove my old English songs from playlist from playlist list from playlist list from playlist',\n",
       " 'Local food items and rafting are also good for local resources and rafting.',\n",
       " 'Our society today was influenced by films today .',\n",
       " 'list the first five films of Mama Wson Wson Ws',\n",
       " 'Bihar Yoga Bharati has been established in the world famous Nalanda and Vikramshila University .',\n",
       " 'what s the latest news about the global W global W global W',\n",
       " 'The world health report has given this sign in 2002 that the biggest danger is increasing in ten major danger for health is increasing in ten major risk of health .',\n",
       " 'This festival was first introduced to the holy river paying the holy river of the ancestors of the past.',\n",
       " 'The last strong Pala ruler Ram Gopal control over some parts of Bengal Bihar and Orissa in India and Orissa.',\n",
       " 'National Broadcasting Company has issued his Blue network in 1934 in 1934 .',\n",
       " 'Pandit Vishnu Narayan Bhat Pandit Vishnu Narayan Prasad was born in Mumbai on 19 January 1878 in Mumbai .',\n",
       " 'please send that email jetry',\n",
       " 'The village is located at a height of 1670 metres at a',\n",
       " 'Transfer current list current list current list',\n",
       " 'what is the time difference between new new york and new york',\n",
       " 'Due to this the farmers are being aware of the soil conservation and farmers are being',\n",
       " 'please send an email to me about the weather in new york',\n",
       " 'They say that if you are outside home if you are outside home then do not forget to wear dark colors and eat nutritious food and eat nutritious food']"
      ]
     },
     "execution_count": 83,
     "metadata": {},
     "output_type": "execute_result"
    }
   ],
   "source": [
    "trs"
   ]
  },
  {
   "cell_type": "code",
   "execution_count": null,
   "metadata": {},
   "outputs": [],
   "source": []
  }
 ],
 "metadata": {
  "colab": {
   "collapsed_sections": [
    "LHkvL06U27Pf",
    "5YwbALhHiDn6",
    "YXpn77xX3JsM",
    "wi6rzJDv3OOV",
    "6D_Wu0ZEl6xR",
    "Cpz0Jzhq3c6P"
   ],
   "provenance": []
  },
  "kernelspec": {
   "display_name": "Python 3 (ipykernel)",
   "language": "python",
   "name": "python3"
  },
  "language_info": {
   "codemirror_mode": {
    "name": "ipython",
    "version": 3
   },
   "file_extension": ".py",
   "mimetype": "text/x-python",
   "name": "python",
   "nbconvert_exporter": "python",
   "pygments_lexer": "ipython3",
   "version": "3.11.2"
  }
 },
 "nbformat": 4,
 "nbformat_minor": 4
}
